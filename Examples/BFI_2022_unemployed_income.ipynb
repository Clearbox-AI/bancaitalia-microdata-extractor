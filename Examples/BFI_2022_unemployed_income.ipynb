{
 "cells": [
  {
   "cell_type": "markdown",
   "id": "fc9efe22",
   "metadata": {},
   "source": [
    "# Income of unemployed family members"
   ]
  },
  {
   "cell_type": "markdown",
   "id": "fcedd462",
   "metadata": {},
   "source": [
    "Key attributes:\n",
    "- NQUEST: Numero di questionario, identificativo della famiglia\n",
    "- NORD: Numero d'ordine del componente della famiglia"
   ]
  },
  {
   "cell_type": "code",
   "execution_count": 1,
   "id": "2d98d35b",
   "metadata": {},
   "outputs": [],
   "source": [
    "import os\n",
    "import polars as pl\n",
    "from BI_microdata_extractor import BIMicrodataExtractor\n",
    "\n",
    "bfi = BIMicrodataExtractor()\n",
    "bfi.load_data(\"BFI_2022\")"
   ]
  },
  {
   "cell_type": "code",
   "execution_count": 15,
   "id": "5f556921",
   "metadata": {},
   "outputs": [
    {
     "data": {
      "text/plain": [
       "['investments',\n",
       " 'opinion',\n",
       " 'finance',\n",
       " 'survey_keys',\n",
       " 'bank_account',\n",
       " 'survey_quality',\n",
       " 'earnings',\n",
       " 'digital',\n",
       " 'labour_market',\n",
       " 'capital_transfer',\n",
       " 'transfer_income',\n",
       " 'expenses',\n",
       " 'credit',\n",
       " 'other',\n",
       " 'education',\n",
       " 'demographics',\n",
       " 'energy',\n",
       " 'savings',\n",
       " 'assets',\n",
       " 'natural_disasters',\n",
       " None,\n",
       " 'housing',\n",
       " 'purchase_habits',\n",
       " 'insurance',\n",
       " 'transportation',\n",
       " 'passive_income',\n",
       " 'unemployment',\n",
       " 'house_rental',\n",
       " 'debt_and_loan']"
      ]
     },
     "execution_count": 15,
     "metadata": {},
     "output_type": "execute_result"
    }
   ],
   "source": [
    "bfi.attribute_categories"
   ]
  },
  {
   "cell_type": "code",
   "execution_count": null,
   "id": "c6a09723",
   "metadata": {},
   "outputs": [],
   "source": [
    "bfi.get_attribute_metadata(\"APQUAL2\")"
   ]
  },
  {
   "cell_type": "code",
   "execution_count": null,
   "id": "07fdd137",
   "metadata": {},
   "outputs": [],
   "source": [
    "_=bfi.get_attributes_by_categories(\"labour_market\")"
   ]
  },
  {
   "cell_type": "code",
   "execution_count": 4,
   "id": "d4ff3df9",
   "metadata": {},
   "outputs": [],
   "source": [
    "# Store in a list the family number (NQUEST) of all families where all members are unemployed\n",
    "unemployed_fams = (\n",
    "    bfi.df_familymembers\n",
    "    .group_by(\"NQUEST\")\n",
    "    .agg([\n",
    "        pl.col(\"B01\").eq(2).all().alias(\"all_B01_eq_2\")\n",
    "    ])\n",
    "    .filter(pl.col(\"all_B01_eq_2\"))\n",
    "    .select(\"NQUEST\")\n",
    ").to_series().to_list()\n"
   ]
  },
  {
   "cell_type": "code",
   "execution_count": 43,
   "id": "96cdb3d0",
   "metadata": {},
   "outputs": [
    {
     "name": "stdout",
     "output_type": "stream",
     "text": [
      "134 attributes matching the search criteria\n",
      "Results for categories transfer_income:\n",
      "\n",
      "n°   Attribute\tDescription\n",
      "-----------------------------------------------------\n",
      "B02  ASNONOC2:\tPrima di essere pensionato o disoccupato che attività aveva?\n",
      "B08  CONTRIB:\tConsiderando tutta la storia lavorativa, ha mai versato, o il datore di lavoro ha versato, anche per un breve periodo (anche lontano nel tempo) contributi per la pensione?\n",
      "B09a  ACONTRIB:\tPer quanti anni ha versato contributi (includendo anche quelli riscattati)?\n",
      "B09b  FCONTRIB:\tDi questi anni quanti sono riscattati o figurativi (per servizio militare, riscatto della laurea, mobilità, maternità, disoccupazione, CIG)?\n",
      "B14  ETAPEN:\tA che età prevede di andare (o è andato nel frattempo) in pensione?\n",
      "B15  COPPU:\tPensi al momento in cui andrà/è andato in pensione e consideri solo la pensione pubblica, cioè escluda eventuali fondi pensione e pensioni integrative. Quale percentuale rappresenterà/rappresenta la pensione pubblica di rispetto alle Sue entrate da lavoro al momento del pensionamento?\n",
      "B18  B18:\tNel 2022 ha percepito redditi da pensioni da lavoro (vecchiaia, anzianità, anticipata), invalidità, sociale, di reversibilità o pensioni integrative da previdenza complementare o assicurazioni private? Escluda la pensione di cittadinanza.\n",
      "B19A  B19A:\tNel 2022 ha percepito Cassa integrazione (incluso l’assegno ordinario di integrazione salariale), indennità di mobilità o di disoccupazione o liquidazioni da lavoro\n",
      "B19B  B19B:\tNel 2022 ha percepito Assistenza economica di qualsiasi natura da enti pubblici o privati (ad esempio indennità di accompagnamento per persone disabili, etc.). Escluda il reddito/pensione di cittadinanza, il bonus asilo nido e l’assegno unico e universale per i figli a carico.\n",
      "B19C  B19C:\tNel 2022 ha percepito Borse di studio, regali/contributi in denaro da parenti o amici non conviventi, assegni per alimenti, contributi in denaro da parte di assicurazioni (per furti o infortuni) o altre entrate\n",
      "B24  RDC:\tNel 2022 la Sua famiglia ha ricevuto il Reddito/Pensione di Cittadinanza?\n",
      "B25a  RDCMESI01:\tHa ricevuto il Reddito/Pensione di Cittadinanza a Gennaio 2022?\n",
      "B25b  RDCMESI02:\tHa ricevuto il Reddito/Pensione di Cittadinanza a Febbraio 2022?\n",
      "B25c  RDCMESI03:\tHa ricevuto il Reddito/Pensione di Cittadinanza a Marzo 2022?\n",
      "B25d  RDCMESI04:\tHa ricevuto il Reddito/Pensione di Cittadinanza a Aprile 2022?\n",
      "B25e  RDCMESI05:\tHa ricevuto il Reddito/Pensione di Cittadinanza a Maggio 2022?\n",
      "B25f  RDCMESI06:\tHa ricevuto il Reddito/Pensione di Cittadinanza a Giugno 2022?\n",
      "B25g  RDCMESI07:\tHa ricevuto il Reddito/Pensione di Cittadinanza a Luglio 2022?\n",
      "B25h  RDCMESI08:\tHa ricevuto il Reddito/Pensione di Cittadinanza a Agosto 2022?\n",
      "B25i  RDCMESI09:\tHa ricevuto il Reddito/Pensione di Cittadinanza a Settembre 2022?\n",
      "B25l  RDCMESI10:\tHa ricevuto il Reddito/Pensione di Cittadinanza a Ottobre 2022?\n",
      "B25m  RDCMESI11:\tHa ricevuto il Reddito/Pensione di Cittadinanza a Novembre 2022?\n",
      "B25n  RDCMESI12:\tHa ricevuto il Reddito/Pensione di Cittadinanza a Dicembre 2022?\n",
      "B25A  PDC:\tHa ricevuto il Reddito o la Pensione di Cittadinanza\n",
      "B26  AUU:\tNel 2022 la Sua famiglia ha ricevuto l’Assegno unico e universale per i figli?\n",
      "B27a  AUUMESI3:\tHa ricevuto Assegno Unico e Universale per I figli a Marzo?\n",
      "B27b  AUUMESI4:\tHa ricevuto Assegno Unico e Universale per I figli a Aprile?\n",
      "B27c  AUUMESI5:\tHa ricevuto Assegno Unico e Universale per I figli a Maggio?\n",
      "B27d  AUUMESI6:\tHa ricevuto Assegno Unico e Universale per I figli a Giugno?\n",
      "B27e  AUUMESI7:\tHa ricevuto Assegno Unico e Universale per I figli a Luglio?\n",
      "B27f  AUUMESI8:\tHa ricevuto Assegno Unico e Universale per I figli a Agosto?\n",
      "B27g  AUUMESI9:\tHa ricevuto Assegno Unico e Universale per I figli a Settembre?\n",
      "B27h  AUUMESI10:\tHa ricevuto Assegno Unico e Universale per I figli a Ottobre?\n",
      "B27i  AUUMESI11:\tHa ricevuto Assegno Unico e Universale per I figli a Novembre?\n",
      "B27l  AUUMESI12:\tHa ricevuto Assegno Unico e Universale per I figli a Dicembre?\n",
      "B28  RDCVAR:\tNel 2022, l’importo mensile ricevuto per il Reddito/Pensione di Cittadinanza ha subito variazioni?\n",
      "B29  RDCAMM:\tIndicare l’importo mensile ricevuto per il Reddito/Pensione di Cittadinanza\n",
      "B30  RDCAMM1:\tIndicare l’ammontare di Reddito/Pensione di Cittadinanza ricevuto a Gennaio.\n",
      "B30  RDCAMM2:\tIndicare l’ammontare di Reddito/Pensione di Cittadinanza ricevuto a Febbraio.\n",
      "B30  RDCAMM3:\tIndicare l’ammontare di Reddito/Pensione di Cittadinanza ricevuto a Marzo.\n",
      "B30  RDCAMM4:\tIndicare l’ammontare di Reddito/Pensione di Cittadinanza ricevuto a Aprile.\n",
      "B30  RDCAMM5:\tIndicare l’ammontare di Reddito/Pensione di Cittadinanza ricevuto a Maggio.\n",
      "B30  RDCAMM6:\tIndicare l’ammontare di Reddito/Pensione di Cittadinanza ricevuto a Giugno.\n",
      "B30  RDCAMM7:\tIndicare l’ammontare di Reddito/Pensione di Cittadinanza ricevuto a Luglio.\n",
      "B30  RDCAMM8:\tIndicare l’ammontare di Reddito/Pensione di Cittadinanza ricevuto a Agosto.\n",
      "B30  RDCAMM9:\tIndicare l’ammontare di Reddito/Pensione di Cittadinanza ricevuto a Settmebre.\n",
      "B30  RDCAMM10:\tIndicare l’ammontare di Reddito/Pensione di Cittadinanza ricevuto a Ottobre.\n",
      "B30  RDCAMM11:\tIndicare l’ammontare di Reddito/Pensione di Cittadinanza ricevuto a Novembre.\n",
      "B30  RDCAMM12:\tIndicare l’ammontare di Reddito/Pensione di Cittadinanza ricevuto a Dicembre.\n",
      "B31  AUUVAR:\tNel 2022, l’importo mensile ricevuto per l’Assegno unico e universale ha subito variazioni?\n",
      "B32  AUUAMM:\tIndicare l’importo mensile ricevuto per l’Assegno unico e universale\n",
      "B33a  AUUAMM3:\tIndicare l’ammontare dell’Assegno unico e universale ricevuto a Marzo\n",
      "B33b  AUUAMM4:\tIndicare l’ammontare dell’Assegno unico e universale ricevuto a Aprile\n",
      "B33c  AUUAMM5:\tIndicare l’ammontare dell’Assegno unico e universale ricevuto a Maggio\n",
      "B33d  AUUAMM6:\tIndicare l’ammontare dell’Assegno unico e universale ricevuto a Giugno\n",
      "B33e  AUUAMM7:\tIndicare l’ammontare dell’Assegno unico e universale ricevuto a Luglio\n",
      "B33f  AUUAMM8:\tIndicare l’ammontare dell’Assegno unico e universale ricevuto a Agosto\n",
      "B33g  AUUAMM9:\tIndicare l’ammontare dell’Assegno unico e universale ricevuto a Settembre\n",
      "B33h  AUUAMM10:\tIndicare l’ammontare dell’Assegno unico e universale ricevuto a Ottobre\n",
      "B33i  AUUAMM11:\tIndicare l’ammontare dell’Assegno unico e universale ricevuto a Novembre\n",
      "B33l  AUUAMM12:\tIndicare l’ammontare dell’Assegno unico e universale ricevuto a Dicembre\n",
      "B34a  RDCAUU1:\tIndicare l’ammontare complessivo di Reddito/Pensione di Cittadinanza e Assegno unico e universale ricevuto a Gennaio\n",
      "B34b  RDCAUU2:\tIndicare l’ammontare complessivo di Reddito/Pensione di Cittadinanza e Assegno unico e universale ricevuto a Febbreaio\n",
      "B34c  RDCAUU3:\tIndicare l’ammontare complessivo di Reddito/Pensione di Cittadinanza e Assegno unico e universale ricevuto a Marzo\n",
      "B34d  RDCAUU4:\tIndicare l’ammontare complessivo di Reddito/Pensione di Cittadinanza e Assegno unico e universale ricevuto a Aprile\n",
      "B34e  RDCAUU5:\tIndicare l’ammontare complessivo di Reddito/Pensione di Cittadinanza e Assegno unico e universale ricevuto a Maggio\n",
      "B34f  RDCAUU6:\tIndicare l’ammontare complessivo di Reddito/Pensione di Cittadinanza e Assegno unico e universale ricevuto a Giugno\n",
      "B34g  RDCAUU7:\tIndicare l’ammontare complessivo di Reddito/Pensione di Cittadinanza e Assegno unico e universale ricevuto a Luglio\n",
      "B34h  RDCAUU8:\tIndicare l’ammontare complessivo di Reddito/Pensione di Cittadinanza e Assegno unico e universale ricevuto a Agosto\n",
      "B34i  RDCAUU9:\tIndicare l’ammontare complessivo di Reddito/Pensione di Cittadinanza e Assegno unico e universale ricevuto a Settembre\n",
      "B34l  RDCAUU10:\tIndicare l’ammontare complessivo di Reddito/Pensione di Cittadinanza e Assegno unico e universale ricevuto a Ottobre\n",
      "B34m  RDCAUU11:\tIndicare l’ammontare complessivo di Reddito/Pensione di Cittadinanza e Assegno unico e universale ricevuto a Novembre\n",
      "B34n  RDCAUU12:\tIndicare l’ammontare complessivo di Reddito/Pensione di Cittadinanza e Assegno unico e universale ricevuto a Dicembre\n",
      "B35A  RDCPAT1:\tDurante il periodo di percezione del Reddito/Pensione di Cittadinanza (anche in anni precedenti al 2022), Lei o qualche altro membro della Sua famiglia ha sottoscritto il Patto per il lavoro presso il Centro per l’impiego\n",
      "B35B  RDCPAT2:\tDurante il periodo di percezione del Reddito/Pensione di Cittadinanza (anche in anni precedenti al 2022), Lei o qualche altro membro della Sua famiglia ha partecipato ad iniziative formative o attività finalizzate all’inserimento nel mercato del lavoro offerte dal Centro per l’impiego\n",
      "B35C  RDCPAT3:\tDurante il periodo di percezione del Reddito/Pensione di Cittadinanza (anche in anni precedenti al 2022), Lei o qualche altro membro della Sua famiglia ha stipulato un Patto di inclusione sociale con il Comune\n",
      "B37  NIDO:\tNel corso del 2022 la Sua famiglia ha percepito il bonus asilo nido? Si considerino eventuali importi ricevuti indipendentemente dall’anno scolastico di riferimento per cui sono stati richiesti.\n",
      "B38  NIDOAMM:\tAmmontare complessivamente ricevuto per il bonus asilo nido nel corso del 2022\n",
      "B40  VARRED:\tConsiderando il reddito complessivo della Sua famiglia nel 2022, Lei direbbe che è stato insolitamente alto, insolitamente basso o in linea rispetto al reddito annuo che pensava di percepire in un anno “normale”?\n",
      "B41  VARREDFINE2:\tPensi al reddito complessivo della Sua famiglia nel 2023. Lei direbbe che sarà più alto, più basso o in linea rispetto al reddito annuo che ha percepito nel 2022?\n",
      "B42  ASPRED:\tNel corso del corrente anno, 2023, Lei si attende che il reddito complessivo della Sua famiglia cresca più dei prezzi, meno dei prezzi o circa quanto i prezzi?\n",
      "D26a  DETRIMM1:\tNel 2022 la Sua famiglia ha goduto del Bonus ristrutturazioni (50%)\n",
      "D26b  DETRIMM2:\tNel 2022 la Sua famiglia ha goduto del Ecobonus (50% o 65%)\n",
      "D26c  DETRIMM3:\tNel 2022 la Sua famiglia ha goduto del Superbonus (110%)\n",
      "D26d  DETRIMM4:\tNel 2022 la Sua famiglia ha goduto del Bonus facciate\n",
      "D26e  DETRIMM5:\tNel 2022 la Sua famiglia ha goduto del Bonus mobili ed elettrodomestici\n",
      "D26f  DETRIMM6:\tNel 2022 la Sua famiglia ha goduto del Bonus verde (giardini e terrazzi)\n",
      "D26g  DETRIMM7:\tNel 2022 la Sua famiglia ha goduto del Bonus prima casa under 36\n",
      "B4.1  TIPOPEN:\tTipo di pensione percepita nel 2022\n",
      "B4.2  ENTEPEN:\tEnte che pagava la pensione nel 2022\n",
      "B4.3  DECOR:\tDa quale anno riceve questa pensione?\n",
      "B4.4  TPENS:\tImporto di pensione mensile percepito al netto delle imposte\n",
      "B4.5  MESIPEN:\tNumero di mensilità per il quale ha ricevuto la pensione\n",
      "B4.6  ARRET:\tNel 2022 ha ricevuto arretrati di pensione oltre alle normali mensilità\n",
      "B4.7  TARRET:\tAmmontare degli interessi di pensione ricevuti nel 2022 \n",
      "B4.8  QUOTAPE:\tQuale percentuale rappresentava la Sua prima mensilità di pensione rispetto al suo ultimo stipendio (compenso medio mensile, per gli indipendenti)?\n",
      "B5.1  CASD:\tHa ricevuto assegni della cassa integrazione (inclusi assegni ordinari di integrazione salariale)?\n",
      "B5.2  CIGRED:\tQuesto ammontare è stato già incluso nel reddito da lavoro dipendente riportato nell’allegato B1?\n",
      "B5.3  CIGMESI:\tPer quanti mesi è stato in cassa integrazione nel 2022?\n",
      "B5.4  CIGORE:\tQuante ore in media al mese è stato in cassa integrazione?\n",
      "B5.5  CASV:\tA quanto ammontava il valore della cassa integrazione?\n",
      "B5.6  MOBD:\tHa ricevuto indennità di mobilità?\n",
      "B5.7  MOBV:\tA quanto ammontava il valore della indennità di mobilità?\n",
      "B5.8  DISD:\tHa ricevuto indennità di disoccupazione (speciale, ordinaria, etc.)?\n",
      "B5.9  DISV:\tA quanto ammontava il valore della indennità di disoccupazione (speciale, ordinaria, etc.)?\n",
      "B5.12  ACED:\tHa ricevuto assistenza economica da amministrazioni pubbliche centrali (esclusi il reddito/pensione di cittadinanza, l’Assegno unico e universale per i figli e il bonus asilo nido)?\n",
      "B5.13  ACEV:\tQual è la somma ricevuta da amministrazioni pubbliche centrali (esclusi il reddito/pensione di cittadinanza, l’Assegno unico e universale per i figli e il bonus asilo nido)?\n",
      "B5.14  APLD:\tHa ricevuto assistenza economica da enti o amministrazioni pubbliche locali (esclusi il reddito/pensione di cittadinanza, l’Assegno unico e universale per i figli e il bonus asilo nido)?\n",
      "B5.15  APLV:\tQual è la somma ricevuta da enti o amministrazioni pubbliche locali (esclusi il reddito/pensione di cittadinanza, l’Assegno unico e universale per i figli e il bonus asilo nido)?\n",
      "B5.16  AIPD:\tHa ricevuto assistenza economica da a istituzioni sociali private? (esclusi il reddito/pensione di cittadinanza, l’Assegno unico e universale per i figli e il bonus asilo nido)\n",
      "B5.17  AIPV:\tQual è la somma ricevuta da istituzioni sociali private? (esclusi il reddito/pensione di cittadinanza, l’Assegno unico e universale per i figli e il bonus asilo nido)\n",
      "B5.18  BORSAD:\tHa ricevuto una borsa di studio?\n",
      "B5.19  BORSAV:\tQual è la somma ricevuta per la borsa di studio?\n",
      "B5.20  RRD:\tHa ricevuto regali/ contributi in denaro RICORRENTI (spese affitto, contributo mensile, etc.) da parenti o amici non conviventi??\n",
      "B5.21  RRV:\tQual è la somma ricevuta da regali/ contributi in denaro RICORRENTI (spese affitto, contributo mensile, etc.) da parenti o amici non conviventi??\n",
      "B5.22  ROD:\tHa ricevuto regali/ contributi in denaro OCCASIONALI (matrimonio, laurea, ricorrenze particolari) da parenti o amici non conviventi?\n",
      "B5.23  ROV:\tQual è la somma ricevuta da regali/ contributi in denaro OCCASIONALI (matrimonio, laurea, ricorrenze particolari) da parenti o amici non conviventi?\n",
      "B5.24  ALIMD:\tHa ricevuto assegni per alimenti?\n",
      "B5.25  ALIMV:\tQual è la somma ricevuta da assegni per alimenti?\n",
      "B5.26  ASCD:\tHa ricevuto contributi in denaro da assicurazioni per furti o infortuni?\n",
      "B5.27  ASCV:\tQual è la somma ricevuta da contributi in denaro da assicurazioni per furti o infortuni?\n",
      "B5.28  ALTRED:\tHa ricevuto altre entrate?\n",
      "B5.29  ALTREV:\tQual è la somma ricevuta da altre entrate?\n",
      "RFAM5  YT:\tPensioni e trasferimenti netti\n",
      "RFAM6  YTP:\tPensioni e arretrati\n",
      "RFAM7  YTP1:\tPensioni\n",
      "RFAM10  YTA1:\tAssistenza economica\n",
      "RFAM11  YTA11:\tCass aintegrazione\n",
      "RFAM12  YTA12:\tAltra assistenza economica\n",
      "RFAM13  YTA2:\tBorse di studio\n",
      "RFAM14  YTA3:\tAssegni alimenti e regali/contributi ricorrenti\n",
      "RFAM15  YTA31:\tAssegni alimenti e regali/contributi ricorrenti in entrata\n",
      "RFAM16  YTA32:\tAssegni alimenti e regali/contributi ricorrenti in uscita\n",
      "RFAM17  YTA6:\tReddito/pensione di cittadinanza e Assegno unico e universale per i figli a carico\n"
     ]
    }
   ],
   "source": [
    "s=bfi.get_attributes_by_categories(\"transfer_income\")"
   ]
  },
  {
   "cell_type": "code",
   "execution_count": null,
   "id": "0ecd8128",
   "metadata": {},
   "outputs": [
    {
     "data": {
      "text/plain": [
       "{1: 'Reddito di cittadinanza', 2: 'Pensione di cittadinanza', 3: 'Entrambi'}"
      ]
     },
     "execution_count": 45,
     "metadata": {},
     "output_type": "execute_result"
    }
   ],
   "source": [
    "# Relevant attributes related to transfer income:\n",
    "# B18, B19A, B19B, B19C APQUAL2==[11,12,13,14,15,16,17,21] RDC, AUU, TIPOPEN, DISD, ACED, APLD, BORSAD, RRD, ALIMD, ALTRED\n",
    "# fmem fmem  fmem  fmem fmem                               fams fams B4       B5    B5    B5    B5      B5   B5     B5\n",
    "# Età>=18 (\"ANASC\",\"<=\",2003)"
   ]
  },
  {
   "cell_type": "code",
   "execution_count": null,
   "id": "b8ab97e3",
   "metadata": {},
   "outputs": [],
   "source": [
    "rules = [(\"ANASC\",\"<=\",2003),(\"B01\",\"==\",2)] # Unemployed adults\n",
    "df_unempl = bfi.filter(rules, bfi.df_familymembers)"
   ]
  },
  {
   "cell_type": "code",
   "execution_count": null,
   "id": "6338030b",
   "metadata": {},
   "outputs": [],
   "source": [
    "bfi.get_attribute_metadata(\"APQUAL2\")"
   ]
  },
  {
   "cell_type": "code",
   "execution_count": 29,
   "id": "4e04e58c",
   "metadata": {},
   "outputs": [
    {
     "data": {
      "text/html": [
       "<div><style>\n",
       ".dataframe > thead > tr,\n",
       ".dataframe > tbody > tr {\n",
       "  text-align: right;\n",
       "  white-space: pre-wrap;\n",
       "}\n",
       "</style>\n",
       "<small>shape: (9, 2)</small><table border=\"1\" class=\"dataframe\"><thead><tr><th>APQUAL2</th><th>count</th></tr><tr><td>i64</td><td>u32</td></tr></thead><tbody><tr><td>11</td><td>559</td></tr><tr><td>12</td><td>710</td></tr><tr><td>13</td><td>2240</td></tr><tr><td>14</td><td>29</td></tr><tr><td>15</td><td>5689</td></tr><tr><td>16</td><td>1007</td></tr><tr><td>17</td><td>1075</td></tr><tr><td>19</td><td>3</td></tr><tr><td>21</td><td>105</td></tr></tbody></table></div>"
      ],
      "text/plain": [
       "shape: (9, 2)\n",
       "┌─────────┬───────┐\n",
       "│ APQUAL2 ┆ count │\n",
       "│ ---     ┆ ---   │\n",
       "│ i64     ┆ u32   │\n",
       "╞═════════╪═══════╡\n",
       "│ 11      ┆ 559   │\n",
       "│ 12      ┆ 710   │\n",
       "│ 13      ┆ 2240  │\n",
       "│ 14      ┆ 29    │\n",
       "│ 15      ┆ 5689  │\n",
       "│ 16      ┆ 1007  │\n",
       "│ 17      ┆ 1075  │\n",
       "│ 19      ┆ 3     │\n",
       "│ 21      ┆ 105   │\n",
       "└─────────┴───────┘"
      ]
     },
     "execution_count": 29,
     "metadata": {},
     "output_type": "execute_result"
    }
   ],
   "source": [
    "df_unempl[\"APQUAL2\"].value_counts().sort(\"APQUAL2\")"
   ]
  },
  {
   "cell_type": "markdown",
   "id": "2584aadf",
   "metadata": {},
   "source": [
    "### Pensioni"
   ]
  },
  {
   "cell_type": "code",
   "execution_count": null,
   "id": "5291614e",
   "metadata": {},
   "outputs": [],
   "source": [
    "_=bfi.get_attribute_metadata(\"TIPOPEN\",print_output=True)"
   ]
  },
  {
   "cell_type": "code",
   "execution_count": null,
   "id": "68455fb9",
   "metadata": {},
   "outputs": [
    {
     "data": {
      "text/html": [
       "<div><style>\n",
       ".dataframe > thead > tr,\n",
       ".dataframe > tbody > tr {\n",
       "  text-align: right;\n",
       "  white-space: pre-wrap;\n",
       "}\n",
       "</style>\n",
       "<small>shape: (5, 2)</small><table border=\"1\" class=\"dataframe\"><thead><tr><th>TIPOPEN</th><th>count</th></tr><tr><td>i64</td><td>u32</td></tr></thead><tbody><tr><td>1</td><td>6212</td></tr><tr><td>2</td><td>213</td></tr><tr><td>3</td><td>921</td></tr><tr><td>4</td><td>85</td></tr><tr><td>5</td><td>555</td></tr></tbody></table></div>"
      ],
      "text/plain": [
       "shape: (5, 2)\n",
       "┌─────────┬───────┐\n",
       "│ TIPOPEN ┆ count │\n",
       "│ ---     ┆ ---   │\n",
       "│ i64     ┆ u32   │\n",
       "╞═════════╪═══════╡\n",
       "│ 1       ┆ 6212  │\n",
       "│ 2       ┆ 213   │\n",
       "│ 3       ┆ 921   │\n",
       "│ 4       ┆ 85    │\n",
       "│ 5       ┆ 555   │\n",
       "└─────────┴───────┘"
      ]
     },
     "execution_count": 40,
     "metadata": {},
     "output_type": "execute_result"
    }
   ],
   "source": [
    "df_B4 = bfi.DFs[\"allb4\"]\n",
    "pen_count = df_B4[\"TIPOPEN\"].value_counts().sort(\"TIPOPEN\")"
   ]
  },
  {
   "cell_type": "markdown",
   "id": "fcb22038",
   "metadata": {},
   "source": [
    "### Reddito/pensione di cittadinanza (RDC/PDC)"
   ]
  },
  {
   "cell_type": "code",
   "execution_count": null,
   "id": "48074355",
   "metadata": {},
   "outputs": [],
   "source": [
    "months_sum = pl.col(\"RDCMESI01\")+pl.col(\"RDCMESI02\")+pl.col(\"RDCMESI03\")+pl.col(\"RDCMESI04\")+pl.col(\"RDCMESI\")+pl.col(\"RDCMESI\")+pl.col(\"RDCMESI\")+pl.col(\"RDCMESI\")+pl.col(\"RDCMESI\")+pl.col(\"RDCMESI\")+pl.col(\"RDCMESI\")+pl.col(\"RDCMESI\")\n",
    "df_RDC = bfi.df_families.filter(pl.col(\"PDC\").is_in([1,2,3])).with_columns(pl.sum_horizontal(pl.col(\"^RDCMESI.*$\")).alias(\"rdcmesi_sum\").alias(\"RDC_tot_mesi\"))"
   ]
  },
  {
   "cell_type": "code",
   "execution_count": null,
   "id": "313ce142",
   "metadata": {},
   "outputs": [
    {
     "data": {
      "text/html": [
       "<div><style>\n",
       ".dataframe > thead > tr,\n",
       ".dataframe > tbody > tr {\n",
       "  text-align: right;\n",
       "  white-space: pre-wrap;\n",
       "}\n",
       "</style>\n",
       "<small>shape: (273,)</small><table border=\"1\" class=\"dataframe\"><thead><tr><th>RDC_tot_mesi</th></tr><tr><td>i64</td></tr></thead><tbody><tr><td>2</td></tr><tr><td>10</td></tr><tr><td>12</td></tr><tr><td>1</td></tr><tr><td>12</td></tr><tr><td>&hellip;</td></tr><tr><td>12</td></tr><tr><td>12</td></tr><tr><td>5</td></tr><tr><td>9</td></tr><tr><td>6</td></tr></tbody></table></div>"
      ],
      "text/plain": [
       "shape: (273,)\n",
       "Series: 'RDC_tot_mesi' [i64]\n",
       "[\n",
       "\t2\n",
       "\t10\n",
       "\t12\n",
       "\t1\n",
       "\t12\n",
       "\t…\n",
       "\t12\n",
       "\t12\n",
       "\t5\n",
       "\t9\n",
       "\t6\n",
       "]"
      ]
     },
     "execution_count": 56,
     "metadata": {},
     "output_type": "execute_result"
    }
   ],
   "source": [
    "# Number of months of RDC received by families\n",
    "df_RDC[\"RDC_tot_mesi\"]"
   ]
  },
  {
   "cell_type": "markdown",
   "id": "228b241f",
   "metadata": {},
   "source": [
    "### Indennità di disoccupazione, assistenza economica da amministraizoni pubbliche centrali/locali"
   ]
  },
  {
   "cell_type": "code",
   "execution_count": null,
   "id": "b8d4dfed",
   "metadata": {},
   "outputs": [],
   "source": [
    "# DISD, ACED, APLD\n",
    "df_B5 = bfi.DFs[\"allb5\"]\n",
    "sel = [\"NQUEST\",\"NORD\", \"DISD\", \"ACED\", \"APLD\"]\n",
    "df_indenn = df_B5.filter((pl.col(\"DISD\")==1) | (pl.col(\"ACED\")==1) | (pl.col(\"APLD\")==1)).select(sel)\n",
    "df_indenn"
   ]
  },
  {
   "cell_type": "markdown",
   "id": "4aa3ccac",
   "metadata": {},
   "source": [
    "### Altre entrate"
   ]
  },
  {
   "cell_type": "code",
   "execution_count": 69,
   "id": "f7cb5a86",
   "metadata": {},
   "outputs": [
    {
     "data": {
      "text/html": [
       "<div><style>\n",
       ".dataframe > thead > tr,\n",
       ".dataframe > tbody > tr {\n",
       "  text-align: right;\n",
       "  white-space: pre-wrap;\n",
       "}\n",
       "</style>\n",
       "<small>shape: (181, 6)</small><table border=\"1\" class=\"dataframe\"><thead><tr><th>NQUEST</th><th>NORD</th><th>BORSAD</th><th>RRD</th><th>ALIMD</th><th>ALTRED</th></tr><tr><td>i64</td><td>i64</td><td>i64</td><td>i64</td><td>i64</td><td>i64</td></tr></thead><tbody><tr><td>91079</td><td>3</td><td>1</td><td>2</td><td>2</td><td>2</td></tr><tr><td>512784</td><td>5</td><td>1</td><td>2</td><td>2</td><td>2</td></tr><tr><td>611412</td><td>3</td><td>1</td><td>2</td><td>2</td><td>2</td></tr><tr><td>611412</td><td>4</td><td>1</td><td>2</td><td>2</td><td>2</td></tr><tr><td>635112</td><td>1</td><td>2</td><td>2</td><td>2</td><td>1</td></tr><tr><td>&hellip;</td><td>&hellip;</td><td>&hellip;</td><td>&hellip;</td><td>&hellip;</td><td>&hellip;</td></tr><tr><td>1072846</td><td>1</td><td>2</td><td>2</td><td>2</td><td>1</td></tr><tr><td>1072846</td><td>2</td><td>1</td><td>2</td><td>1</td><td>2</td></tr><tr><td>1072846</td><td>3</td><td>1</td><td>2</td><td>1</td><td>2</td></tr><tr><td>1072943</td><td>3</td><td>1</td><td>2</td><td>2</td><td>2</td></tr><tr><td>1072961</td><td>3</td><td>1</td><td>2</td><td>2</td><td>2</td></tr></tbody></table></div>"
      ],
      "text/plain": [
       "shape: (181, 6)\n",
       "┌─────────┬──────┬────────┬─────┬───────┬────────┐\n",
       "│ NQUEST  ┆ NORD ┆ BORSAD ┆ RRD ┆ ALIMD ┆ ALTRED │\n",
       "│ ---     ┆ ---  ┆ ---    ┆ --- ┆ ---   ┆ ---    │\n",
       "│ i64     ┆ i64  ┆ i64    ┆ i64 ┆ i64   ┆ i64    │\n",
       "╞═════════╪══════╪════════╪═════╪═══════╪════════╡\n",
       "│ 91079   ┆ 3    ┆ 1      ┆ 2   ┆ 2     ┆ 2      │\n",
       "│ 512784  ┆ 5    ┆ 1      ┆ 2   ┆ 2     ┆ 2      │\n",
       "│ 611412  ┆ 3    ┆ 1      ┆ 2   ┆ 2     ┆ 2      │\n",
       "│ 611412  ┆ 4    ┆ 1      ┆ 2   ┆ 2     ┆ 2      │\n",
       "│ 635112  ┆ 1    ┆ 2      ┆ 2   ┆ 2     ┆ 1      │\n",
       "│ …       ┆ …    ┆ …      ┆ …   ┆ …     ┆ …      │\n",
       "│ 1072846 ┆ 1    ┆ 2      ┆ 2   ┆ 2     ┆ 1      │\n",
       "│ 1072846 ┆ 2    ┆ 1      ┆ 2   ┆ 1     ┆ 2      │\n",
       "│ 1072846 ┆ 3    ┆ 1      ┆ 2   ┆ 1     ┆ 2      │\n",
       "│ 1072943 ┆ 3    ┆ 1      ┆ 2   ┆ 2     ┆ 2      │\n",
       "│ 1072961 ┆ 3    ┆ 1      ┆ 2   ┆ 2     ┆ 2      │\n",
       "└─────────┴──────┴────────┴─────┴───────┴────────┘"
      ]
     },
     "execution_count": 69,
     "metadata": {},
     "output_type": "execute_result"
    }
   ],
   "source": [
    "sel = [\"NQUEST\",\"NORD\", \"BORSAD\", \"RRD\", \"ALIMD\", \"ALTRED\"]\n",
    "df_B5.filter((pl.col(\"BORSAD\")==1) | (pl.col(\"RRD\")==1) | (pl.col(\"ALIMD\")==1) | (pl.col(\"ALTRED\")==1)).select(sel)"
   ]
  },
  {
   "cell_type": "code",
   "execution_count": null,
   "id": "d371f7ca",
   "metadata": {},
   "outputs": [
    {
     "data": {
      "text/html": [
       "<div><style>\n",
       ".dataframe > thead > tr,\n",
       ".dataframe > tbody > tr {\n",
       "  text-align: right;\n",
       "  white-space: pre-wrap;\n",
       "}\n",
       "</style>\n",
       "<small>shape: (762, 8)</small><table border=\"1\" class=\"dataframe\"><thead><tr><th>NQUEST</th><th>DISD</th><th>ACED</th><th>APLD</th><th>BORSAD</th><th>RRD</th><th>ALIMD</th><th>ALTRED</th></tr><tr><td>i64</td><td>list[i64]</td><td>list[i64]</td><td>list[i64]</td><td>list[i64]</td><td>list[i64]</td><td>list[i64]</td><td>list[i64]</td></tr></thead><tbody><tr><td>35322</td><td>[null]</td><td>[1]</td><td>[2]</td><td>[null]</td><td>[null]</td><td>[null]</td><td>[null]</td></tr><tr><td>997979</td><td>[null, null]</td><td>[null, null]</td><td>[null, null]</td><td>[2, 2]</td><td>[2, 1]</td><td>[1, 2]</td><td>[2, 2]</td></tr><tr><td>1045266</td><td>[null]</td><td>[2]</td><td>[1]</td><td>[null]</td><td>[null]</td><td>[null]</td><td>[null]</td></tr><tr><td>682737</td><td>[null]</td><td>[1]</td><td>[2]</td><td>[null]</td><td>[null]</td><td>[null]</td><td>[null]</td></tr><tr><td>1019805</td><td>[1]</td><td>[null]</td><td>[null]</td><td>[null]</td><td>[null]</td><td>[null]</td><td>[null]</td></tr><tr><td>&hellip;</td><td>&hellip;</td><td>&hellip;</td><td>&hellip;</td><td>&hellip;</td><td>&hellip;</td><td>&hellip;</td><td>&hellip;</td></tr><tr><td>1041184</td><td>[null]</td><td>[2]</td><td>[1]</td><td>[null]</td><td>[null]</td><td>[null]</td><td>[null]</td></tr><tr><td>995559</td><td>[null]</td><td>[null]</td><td>[null]</td><td>[1]</td><td>[2]</td><td>[2]</td><td>[2]</td></tr><tr><td>1031296</td><td>[null]</td><td>[1]</td><td>[2]</td><td>[null]</td><td>[null]</td><td>[null]</td><td>[null]</td></tr><tr><td>1059982</td><td>[null]</td><td>[null]</td><td>[null]</td><td>[2]</td><td>[1]</td><td>[2]</td><td>[2]</td></tr><tr><td>1072961</td><td>[null]</td><td>[null]</td><td>[null]</td><td>[1]</td><td>[2]</td><td>[2]</td><td>[2]</td></tr></tbody></table></div>"
      ],
      "text/plain": [
       "shape: (762, 8)\n",
       "┌─────────┬─────────────┬─────────────┬────────────┬───────────┬───────────┬───────────┬───────────┐\n",
       "│ NQUEST  ┆ DISD        ┆ ACED        ┆ APLD       ┆ BORSAD    ┆ RRD       ┆ ALIMD     ┆ ALTRED    │\n",
       "│ ---     ┆ ---         ┆ ---         ┆ ---        ┆ ---       ┆ ---       ┆ ---       ┆ ---       │\n",
       "│ i64     ┆ list[i64]   ┆ list[i64]   ┆ list[i64]  ┆ list[i64] ┆ list[i64] ┆ list[i64] ┆ list[i64] │\n",
       "╞═════════╪═════════════╪═════════════╪════════════╪═══════════╪═══════════╪═══════════╪═══════════╡\n",
       "│ 35322   ┆ [null]      ┆ [1]         ┆ [2]        ┆ [null]    ┆ [null]    ┆ [null]    ┆ [null]    │\n",
       "│ 997979  ┆ [null,      ┆ [null,      ┆ [null,     ┆ [2, 2]    ┆ [2, 1]    ┆ [1, 2]    ┆ [2, 2]    │\n",
       "│         ┆ null]       ┆ null]       ┆ null]      ┆           ┆           ┆           ┆           │\n",
       "│ 1045266 ┆ [null]      ┆ [2]         ┆ [1]        ┆ [null]    ┆ [null]    ┆ [null]    ┆ [null]    │\n",
       "│ 682737  ┆ [null]      ┆ [1]         ┆ [2]        ┆ [null]    ┆ [null]    ┆ [null]    ┆ [null]    │\n",
       "│ 1019805 ┆ [1]         ┆ [null]      ┆ [null]     ┆ [null]    ┆ [null]    ┆ [null]    ┆ [null]    │\n",
       "│ …       ┆ …           ┆ …           ┆ …          ┆ …         ┆ …         ┆ …         ┆ …         │\n",
       "│ 1041184 ┆ [null]      ┆ [2]         ┆ [1]        ┆ [null]    ┆ [null]    ┆ [null]    ┆ [null]    │\n",
       "│ 995559  ┆ [null]      ┆ [null]      ┆ [null]     ┆ [1]       ┆ [2]       ┆ [2]       ┆ [2]       │\n",
       "│ 1031296 ┆ [null]      ┆ [1]         ┆ [2]        ┆ [null]    ┆ [null]    ┆ [null]    ┆ [null]    │\n",
       "│ 1059982 ┆ [null]      ┆ [null]      ┆ [null]     ┆ [2]       ┆ [1]       ┆ [2]       ┆ [2]       │\n",
       "│ 1072961 ┆ [null]      ┆ [null]      ┆ [null]     ┆ [1]       ┆ [2]       ┆ [2]       ┆ [2]       │\n",
       "└─────────┴─────────────┴─────────────┴────────────┴───────────┴───────────┴───────────┴───────────┘"
      ]
     },
     "execution_count": 141,
     "metadata": {},
     "output_type": "execute_result"
    }
   ],
   "source": [
    "# Aggrego gli attributi di indennità e altre entrate da usare in seguito\n",
    "df_B5_agg = df_B5.group_by(\"NQUEST\").agg(pl.col(\"DISD\"), pl.col(\"ACED\"), pl.col(\"APLD\"), pl.col(\"BORSAD\"), pl.col(\"RRD\"), pl.col(\"ALIMD\"), pl.col(\"ALTRED\"))\n",
    "df_B5_agg"
   ]
  },
  {
   "cell_type": "markdown",
   "id": "0971beaf",
   "metadata": {},
   "source": [
    "### Famiglie senza membri occupati"
   ]
  },
  {
   "cell_type": "code",
   "execution_count": null,
   "id": "1c17ffee",
   "metadata": {},
   "outputs": [],
   "source": [
    "df_unemp_fams = (bfi.df_familymembers.group_by(\"NQUEST\")\n",
    "    .agg([\n",
    "        (pl.col(\"B01\") == 2).sum().alias(\"count_B01_eq_2\"),\n",
    "        pl.col(\"NCOMP\").first().alias(\"NCOMP\") \n",
    "    ])).filter(pl.col(\"count_B01_eq_2\")==pl.col(\"NCOMP\"))\n",
    "\n",
    "df_familymembers_ = df_unemp_fams.join(df_B4, on=[\"NQUEST\"], how=\"left\")\n",
    "df_unemp_familymembers = (\n",
    "    df_familymembers_\n",
    "    .group_by(\"NQUEST\")\n",
    "    .agg([\n",
    "        pl.col(\"count_B01_eq_2\").first(),  # already aggregated, just retain\n",
    "        pl.col(\"NCOMP\").first(),           # already aggregated, just retain\n",
    "        pl.col(\"TIPOPEN\").alias(\"TIPOPEN\") # list of distinct values\n",
    "    ])\n",
    ")"
   ]
  },
  {
   "cell_type": "code",
   "execution_count": 130,
   "id": "c94657ed",
   "metadata": {},
   "outputs": [
    {
     "data": {
      "text/html": [
       "<div><style>\n",
       ".dataframe > thead > tr,\n",
       ".dataframe > tbody > tr {\n",
       "  text-align: right;\n",
       "  white-space: pre-wrap;\n",
       "}\n",
       "</style>\n",
       "<small>shape: (4_199, 4)</small><table border=\"1\" class=\"dataframe\"><thead><tr><th>NQUEST</th><th>count_B01_eq_2</th><th>NCOMP</th><th>TIPOPEN</th></tr><tr><td>i64</td><td>u32</td><td>i64</td><td>list[i64]</td></tr></thead><tbody><tr><td>935077</td><td>2</td><td>2</td><td>[1, 1]</td></tr><tr><td>1030683</td><td>2</td><td>2</td><td>[1, 1]</td></tr><tr><td>687018</td><td>1</td><td>1</td><td>[1, 3]</td></tr><tr><td>1032434</td><td>1</td><td>1</td><td>[1]</td></tr><tr><td>990648</td><td>1</td><td>1</td><td>[1]</td></tr><tr><td>&hellip;</td><td>&hellip;</td><td>&hellip;</td><td>&hellip;</td></tr><tr><td>1001833</td><td>2</td><td>2</td><td>[1, 2]</td></tr><tr><td>1015570</td><td>2</td><td>2</td><td>[1, 1]</td></tr><tr><td>1065853</td><td>3</td><td>3</td><td>[1, 2]</td></tr><tr><td>1016165</td><td>1</td><td>1</td><td>[null]</td></tr><tr><td>1068086</td><td>3</td><td>3</td><td>[1]</td></tr></tbody></table></div>"
      ],
      "text/plain": [
       "shape: (4_199, 4)\n",
       "┌─────────┬────────────────┬───────┬───────────┐\n",
       "│ NQUEST  ┆ count_B01_eq_2 ┆ NCOMP ┆ TIPOPEN   │\n",
       "│ ---     ┆ ---            ┆ ---   ┆ ---       │\n",
       "│ i64     ┆ u32            ┆ i64   ┆ list[i64] │\n",
       "╞═════════╪════════════════╪═══════╪═══════════╡\n",
       "│ 935077  ┆ 2              ┆ 2     ┆ [1, 1]    │\n",
       "│ 1030683 ┆ 2              ┆ 2     ┆ [1, 1]    │\n",
       "│ 687018  ┆ 1              ┆ 1     ┆ [1, 3]    │\n",
       "│ 1032434 ┆ 1              ┆ 1     ┆ [1]       │\n",
       "│ 990648  ┆ 1              ┆ 1     ┆ [1]       │\n",
       "│ …       ┆ …              ┆ …     ┆ …         │\n",
       "│ 1001833 ┆ 2              ┆ 2     ┆ [1, 2]    │\n",
       "│ 1015570 ┆ 2              ┆ 2     ┆ [1, 1]    │\n",
       "│ 1065853 ┆ 3              ┆ 3     ┆ [1, 2]    │\n",
       "│ 1016165 ┆ 1              ┆ 1     ┆ [null]    │\n",
       "│ 1068086 ┆ 3              ┆ 3     ┆ [1]       │\n",
       "└─────────┴────────────────┴───────┴───────────┘"
      ]
     },
     "execution_count": 130,
     "metadata": {},
     "output_type": "execute_result"
    }
   ],
   "source": [
    "df_unemp_familymembers"
   ]
  },
  {
   "cell_type": "code",
   "execution_count": null,
   "id": "95922853",
   "metadata": {},
   "outputs": [
    {
     "data": {
      "text/html": [
       "<div><style>\n",
       ".dataframe > thead > tr,\n",
       ".dataframe > tbody > tr {\n",
       "  text-align: right;\n",
       "  white-space: pre-wrap;\n",
       "}\n",
       "</style>\n",
       "<small>shape: (4_199, 13)</small><table border=\"1\" class=\"dataframe\"><thead><tr><th>NQUEST</th><th>count_B01_eq_2</th><th>NCOMP</th><th>TIPOPEN</th><th>RDC</th><th>AUU</th><th>DISD</th><th>ACED</th><th>APLD</th><th>BORSAD</th><th>RRD</th><th>ALIMD</th><th>ALTRED</th></tr><tr><td>i64</td><td>u32</td><td>i64</td><td>list[i64]</td><td>i64</td><td>i64</td><td>list[i64]</td><td>list[i64]</td><td>list[i64]</td><td>list[i64]</td><td>list[i64]</td><td>list[i64]</td><td>list[i64]</td></tr></thead><tbody><tr><td>935077</td><td>2</td><td>2</td><td>[1, 1]</td><td>2</td><td>null</td><td>null</td><td>null</td><td>null</td><td>null</td><td>null</td><td>null</td><td>null</td></tr><tr><td>1030683</td><td>2</td><td>2</td><td>[1, 1]</td><td>2</td><td>null</td><td>null</td><td>null</td><td>null</td><td>null</td><td>null</td><td>null</td><td>null</td></tr><tr><td>687018</td><td>1</td><td>1</td><td>[1, 3]</td><td>2</td><td>null</td><td>null</td><td>null</td><td>null</td><td>null</td><td>null</td><td>null</td><td>null</td></tr><tr><td>1032434</td><td>1</td><td>1</td><td>[1]</td><td>2</td><td>null</td><td>null</td><td>null</td><td>null</td><td>null</td><td>null</td><td>null</td><td>null</td></tr><tr><td>990648</td><td>1</td><td>1</td><td>[1]</td><td>2</td><td>null</td><td>null</td><td>null</td><td>null</td><td>null</td><td>null</td><td>null</td><td>null</td></tr><tr><td>1029650</td><td>2</td><td>2</td><td>[1]</td><td>2</td><td>null</td><td>null</td><td>null</td><td>null</td><td>null</td><td>null</td><td>null</td><td>null</td></tr><tr><td>1045650</td><td>1</td><td>1</td><td>[1, 3]</td><td>2</td><td>null</td><td>null</td><td>null</td><td>null</td><td>null</td><td>null</td><td>null</td><td>null</td></tr><tr><td>930712</td><td>2</td><td>2</td><td>[1, 1]</td><td>2</td><td>null</td><td>null</td><td>null</td><td>null</td><td>null</td><td>null</td><td>null</td><td>null</td></tr><tr><td>956558</td><td>2</td><td>2</td><td>[1, 1]</td><td>2</td><td>null</td><td>null</td><td>null</td><td>null</td><td>null</td><td>null</td><td>null</td><td>null</td></tr><tr><td>999112</td><td>1</td><td>1</td><td>[1]</td><td>2</td><td>null</td><td>null</td><td>null</td><td>null</td><td>null</td><td>null</td><td>null</td><td>null</td></tr><tr><td>994679</td><td>1</td><td>1</td><td>[null]</td><td>2</td><td>null</td><td>null</td><td>null</td><td>null</td><td>null</td><td>null</td><td>null</td><td>null</td></tr><tr><td>1020814</td><td>1</td><td>1</td><td>[null]</td><td>2</td><td>null</td><td>null</td><td>null</td><td>null</td><td>null</td><td>null</td><td>null</td><td>null</td></tr><tr><td>1052141</td><td>2</td><td>2</td><td>[1, 1]</td><td>2</td><td>null</td><td>null</td><td>null</td><td>null</td><td>null</td><td>null</td><td>null</td><td>null</td></tr><tr><td>&hellip;</td><td>&hellip;</td><td>&hellip;</td><td>&hellip;</td><td>&hellip;</td><td>&hellip;</td><td>&hellip;</td><td>&hellip;</td><td>&hellip;</td><td>&hellip;</td><td>&hellip;</td><td>&hellip;</td><td>&hellip;</td></tr><tr><td>891688</td><td>4</td><td>4</td><td>[5, 3]</td><td>2</td><td>1</td><td>null</td><td>null</td><td>null</td><td>null</td><td>null</td><td>null</td><td>null</td></tr><tr><td>57670</td><td>1</td><td>1</td><td>[1]</td><td>2</td><td>null</td><td>null</td><td>null</td><td>null</td><td>null</td><td>null</td><td>null</td><td>null</td></tr><tr><td>985282</td><td>3</td><td>3</td><td>[5, 1]</td><td>2</td><td>null</td><td>null</td><td>null</td><td>null</td><td>null</td><td>null</td><td>null</td><td>null</td></tr><tr><td>1065984</td><td>3</td><td>3</td><td>[2, 1]</td><td>2</td><td>2</td><td>null</td><td>null</td><td>null</td><td>null</td><td>null</td><td>null</td><td>null</td></tr><tr><td>1048764</td><td>2</td><td>2</td><td>[1, 1]</td><td>2</td><td>null</td><td>null</td><td>null</td><td>null</td><td>null</td><td>null</td><td>null</td><td>null</td></tr><tr><td>915506</td><td>2</td><td>2</td><td>[1, 1]</td><td>2</td><td>null</td><td>null</td><td>null</td><td>null</td><td>null</td><td>null</td><td>null</td><td>null</td></tr><tr><td>1016323</td><td>1</td><td>1</td><td>[1, 3]</td><td>2</td><td>null</td><td>null</td><td>null</td><td>null</td><td>null</td><td>null</td><td>null</td><td>null</td></tr><tr><td>1001833</td><td>2</td><td>2</td><td>[1, 2]</td><td>2</td><td>null</td><td>null</td><td>null</td><td>null</td><td>null</td><td>null</td><td>null</td><td>null</td></tr><tr><td>1015570</td><td>2</td><td>2</td><td>[1, 1]</td><td>2</td><td>null</td><td>null</td><td>null</td><td>null</td><td>null</td><td>null</td><td>null</td><td>null</td></tr><tr><td>1065853</td><td>3</td><td>3</td><td>[1, 2]</td><td>2</td><td>null</td><td>null</td><td>null</td><td>null</td><td>null</td><td>null</td><td>null</td><td>null</td></tr><tr><td>1016165</td><td>1</td><td>1</td><td>[null]</td><td>1</td><td>null</td><td>[null]</td><td>[1]</td><td>[2]</td><td>[null]</td><td>[null]</td><td>[null]</td><td>[null]</td></tr><tr><td>1068086</td><td>3</td><td>3</td><td>[1]</td><td>2</td><td>2</td><td>null</td><td>null</td><td>null</td><td>null</td><td>null</td><td>null</td><td>null</td></tr></tbody></table></div>"
      ],
      "text/plain": [
       "shape: (4_199, 13)\n",
       "┌─────────┬────────────────┬───────┬───────────┬───┬───────────┬───────────┬───────────┬───────────┐\n",
       "│ NQUEST  ┆ count_B01_eq_2 ┆ NCOMP ┆ TIPOPEN   ┆ … ┆ BORSAD    ┆ RRD       ┆ ALIMD     ┆ ALTRED    │\n",
       "│ ---     ┆ ---            ┆ ---   ┆ ---       ┆   ┆ ---       ┆ ---       ┆ ---       ┆ ---       │\n",
       "│ i64     ┆ u32            ┆ i64   ┆ list[i64] ┆   ┆ list[i64] ┆ list[i64] ┆ list[i64] ┆ list[i64] │\n",
       "╞═════════╪════════════════╪═══════╪═══════════╪═══╪═══════════╪═══════════╪═══════════╪═══════════╡\n",
       "│ 935077  ┆ 2              ┆ 2     ┆ [1, 1]    ┆ … ┆ null      ┆ null      ┆ null      ┆ null      │\n",
       "│ 1030683 ┆ 2              ┆ 2     ┆ [1, 1]    ┆ … ┆ null      ┆ null      ┆ null      ┆ null      │\n",
       "│ 687018  ┆ 1              ┆ 1     ┆ [1, 3]    ┆ … ┆ null      ┆ null      ┆ null      ┆ null      │\n",
       "│ 1032434 ┆ 1              ┆ 1     ┆ [1]       ┆ … ┆ null      ┆ null      ┆ null      ┆ null      │\n",
       "│ 990648  ┆ 1              ┆ 1     ┆ [1]       ┆ … ┆ null      ┆ null      ┆ null      ┆ null      │\n",
       "│ 1029650 ┆ 2              ┆ 2     ┆ [1]       ┆ … ┆ null      ┆ null      ┆ null      ┆ null      │\n",
       "│ 1045650 ┆ 1              ┆ 1     ┆ [1, 3]    ┆ … ┆ null      ┆ null      ┆ null      ┆ null      │\n",
       "│ 930712  ┆ 2              ┆ 2     ┆ [1, 1]    ┆ … ┆ null      ┆ null      ┆ null      ┆ null      │\n",
       "│ 956558  ┆ 2              ┆ 2     ┆ [1, 1]    ┆ … ┆ null      ┆ null      ┆ null      ┆ null      │\n",
       "│ 999112  ┆ 1              ┆ 1     ┆ [1]       ┆ … ┆ null      ┆ null      ┆ null      ┆ null      │\n",
       "│ 994679  ┆ 1              ┆ 1     ┆ [null]    ┆ … ┆ null      ┆ null      ┆ null      ┆ null      │\n",
       "│ 1020814 ┆ 1              ┆ 1     ┆ [null]    ┆ … ┆ null      ┆ null      ┆ null      ┆ null      │\n",
       "│ 1052141 ┆ 2              ┆ 2     ┆ [1, 1]    ┆ … ┆ null      ┆ null      ┆ null      ┆ null      │\n",
       "│ …       ┆ …              ┆ …     ┆ …         ┆ … ┆ …         ┆ …         ┆ …         ┆ …         │\n",
       "│ 891688  ┆ 4              ┆ 4     ┆ [5, 3]    ┆ … ┆ null      ┆ null      ┆ null      ┆ null      │\n",
       "│ 57670   ┆ 1              ┆ 1     ┆ [1]       ┆ … ┆ null      ┆ null      ┆ null      ┆ null      │\n",
       "│ 985282  ┆ 3              ┆ 3     ┆ [5, 1]    ┆ … ┆ null      ┆ null      ┆ null      ┆ null      │\n",
       "│ 1065984 ┆ 3              ┆ 3     ┆ [2, 1]    ┆ … ┆ null      ┆ null      ┆ null      ┆ null      │\n",
       "│ 1048764 ┆ 2              ┆ 2     ┆ [1, 1]    ┆ … ┆ null      ┆ null      ┆ null      ┆ null      │\n",
       "│ 915506  ┆ 2              ┆ 2     ┆ [1, 1]    ┆ … ┆ null      ┆ null      ┆ null      ┆ null      │\n",
       "│ 1016323 ┆ 1              ┆ 1     ┆ [1, 3]    ┆ … ┆ null      ┆ null      ┆ null      ┆ null      │\n",
       "│ 1001833 ┆ 2              ┆ 2     ┆ [1, 2]    ┆ … ┆ null      ┆ null      ┆ null      ┆ null      │\n",
       "│ 1015570 ┆ 2              ┆ 2     ┆ [1, 1]    ┆ … ┆ null      ┆ null      ┆ null      ┆ null      │\n",
       "│ 1065853 ┆ 3              ┆ 3     ┆ [1, 2]    ┆ … ┆ null      ┆ null      ┆ null      ┆ null      │\n",
       "│ 1016165 ┆ 1              ┆ 1     ┆ [null]    ┆ … ┆ [null]    ┆ [null]    ┆ [null]    ┆ [null]    │\n",
       "│ 1068086 ┆ 3              ┆ 3     ┆ [1]       ┆ … ┆ null      ┆ null      ┆ null      ┆ null      │\n",
       "└─────────┴────────────────┴───────┴───────────┴───┴───────────┴───────────┴───────────┴───────────┘"
      ]
     },
     "execution_count": 434,
     "metadata": {},
     "output_type": "execute_result"
    }
   ],
   "source": [
    "df_unemp_familymembers_ = df_unemp_familymembers.join(bfi.df_families,on=\"NQUEST\",how=\"left\").select([\"NQUEST\",\"count_B01_eq_2\", \"NCOMP\", \"TIPOPEN\", \"RDC\", \"AUU\"])\n",
    "df_unemp_familymembers_ = df_unemp_familymembers_.join(df_B5_agg,on=\"NQUEST\",how=\"left\")\n",
    "# Drop famiglie con solo pensionati\n",
    "# df_unemp_familymembers_ = df_unemp_familymembers_.filter(pl.col(\"TIPOPEN\").list.len() < pl.col(\"NCOMP\"))\n",
    "df_unemp_familymembers_"
   ]
  },
  {
   "cell_type": "code",
   "execution_count": 435,
   "id": "c7bbe602",
   "metadata": {},
   "outputs": [],
   "source": [
    "df_unemp_familymembers_ = df_unemp_familymembers_.with_columns(\n",
    "        pl.col(\"RDC\").is_in([1]),\n",
    "        pl.col(\"AUU\").is_in([1]),\n",
    "    )"
   ]
  },
  {
   "cell_type": "code",
   "execution_count": 444,
   "id": "c0b1309f",
   "metadata": {},
   "outputs": [],
   "source": [
    "# Somma i valori \"1\" nelle seguenti colonne:\n",
    "cols = [\"DISD\", \"ACED\", \"APLD\", \"BORSAD\", \"RRD\", \"ALIMD\", \"ALTRED\"]\n",
    "df = df_unemp_familymembers_\n",
    "for col in cols:\n",
    "    df = df.with_columns(\n",
    "        pl.when(pl.col(col).list.eval(pl.element().is_not_null()).list.sum() == 0)\n",
    "        .then(None)\n",
    "        .otherwise(\n",
    "            pl.col(col)\n",
    "            .list.eval(pl.element() == 1)\n",
    "            .list.sum()\n",
    "        )\n",
    "        .alias(col)\n",
    "    )\n",
    "\n",
    "# Sostituisce il tipo di pensione con il numero di pensioni nella famiglia\n",
    "df = df.with_columns(\n",
    "    pl.col(\"TIPOPEN\")\n",
    "    .list.eval(pl.element().is_not_null())\n",
    "    .list.sum()\n",
    "    .alias(\"NPEN\")\n",
    ").drop([\"count_B01_eq_2\",\"NCOMP\",\"TIPOPEN\"])"
   ]
  },
  {
   "cell_type": "code",
   "execution_count": 445,
   "id": "60dc7099",
   "metadata": {},
   "outputs": [
    {
     "data": {
      "text/html": [
       "<div><style>\n",
       ".dataframe > thead > tr,\n",
       ".dataframe > tbody > tr {\n",
       "  text-align: right;\n",
       "  white-space: pre-wrap;\n",
       "}\n",
       "</style>\n",
       "<small>shape: (4_199, 11)</small><table border=\"1\" class=\"dataframe\"><thead><tr><th>NQUEST</th><th>RDC</th><th>AUU</th><th>DISD</th><th>ACED</th><th>APLD</th><th>BORSAD</th><th>RRD</th><th>ALIMD</th><th>ALTRED</th><th>NPEN</th></tr><tr><td>i64</td><td>bool</td><td>bool</td><td>u32</td><td>u32</td><td>u32</td><td>u32</td><td>u32</td><td>u32</td><td>u32</td><td>u32</td></tr></thead><tbody><tr><td>935077</td><td>false</td><td>null</td><td>null</td><td>null</td><td>null</td><td>null</td><td>null</td><td>null</td><td>null</td><td>2</td></tr><tr><td>1030683</td><td>false</td><td>null</td><td>null</td><td>null</td><td>null</td><td>null</td><td>null</td><td>null</td><td>null</td><td>2</td></tr><tr><td>687018</td><td>false</td><td>null</td><td>null</td><td>null</td><td>null</td><td>null</td><td>null</td><td>null</td><td>null</td><td>2</td></tr><tr><td>1032434</td><td>false</td><td>null</td><td>null</td><td>null</td><td>null</td><td>null</td><td>null</td><td>null</td><td>null</td><td>1</td></tr><tr><td>990648</td><td>false</td><td>null</td><td>null</td><td>null</td><td>null</td><td>null</td><td>null</td><td>null</td><td>null</td><td>1</td></tr><tr><td>1029650</td><td>false</td><td>null</td><td>null</td><td>null</td><td>null</td><td>null</td><td>null</td><td>null</td><td>null</td><td>1</td></tr><tr><td>1045650</td><td>false</td><td>null</td><td>null</td><td>null</td><td>null</td><td>null</td><td>null</td><td>null</td><td>null</td><td>2</td></tr><tr><td>930712</td><td>false</td><td>null</td><td>null</td><td>null</td><td>null</td><td>null</td><td>null</td><td>null</td><td>null</td><td>2</td></tr><tr><td>956558</td><td>false</td><td>null</td><td>null</td><td>null</td><td>null</td><td>null</td><td>null</td><td>null</td><td>null</td><td>2</td></tr><tr><td>999112</td><td>false</td><td>null</td><td>null</td><td>null</td><td>null</td><td>null</td><td>null</td><td>null</td><td>null</td><td>1</td></tr><tr><td>994679</td><td>false</td><td>null</td><td>null</td><td>null</td><td>null</td><td>null</td><td>null</td><td>null</td><td>null</td><td>0</td></tr><tr><td>1020814</td><td>false</td><td>null</td><td>null</td><td>null</td><td>null</td><td>null</td><td>null</td><td>null</td><td>null</td><td>0</td></tr><tr><td>1052141</td><td>false</td><td>null</td><td>null</td><td>null</td><td>null</td><td>null</td><td>null</td><td>null</td><td>null</td><td>2</td></tr><tr><td>&hellip;</td><td>&hellip;</td><td>&hellip;</td><td>&hellip;</td><td>&hellip;</td><td>&hellip;</td><td>&hellip;</td><td>&hellip;</td><td>&hellip;</td><td>&hellip;</td><td>&hellip;</td></tr><tr><td>891688</td><td>false</td><td>true</td><td>null</td><td>null</td><td>null</td><td>null</td><td>null</td><td>null</td><td>null</td><td>2</td></tr><tr><td>57670</td><td>false</td><td>null</td><td>null</td><td>null</td><td>null</td><td>null</td><td>null</td><td>null</td><td>null</td><td>1</td></tr><tr><td>985282</td><td>false</td><td>null</td><td>null</td><td>null</td><td>null</td><td>null</td><td>null</td><td>null</td><td>null</td><td>2</td></tr><tr><td>1065984</td><td>false</td><td>false</td><td>null</td><td>null</td><td>null</td><td>null</td><td>null</td><td>null</td><td>null</td><td>2</td></tr><tr><td>1048764</td><td>false</td><td>null</td><td>null</td><td>null</td><td>null</td><td>null</td><td>null</td><td>null</td><td>null</td><td>2</td></tr><tr><td>915506</td><td>false</td><td>null</td><td>null</td><td>null</td><td>null</td><td>null</td><td>null</td><td>null</td><td>null</td><td>2</td></tr><tr><td>1016323</td><td>false</td><td>null</td><td>null</td><td>null</td><td>null</td><td>null</td><td>null</td><td>null</td><td>null</td><td>2</td></tr><tr><td>1001833</td><td>false</td><td>null</td><td>null</td><td>null</td><td>null</td><td>null</td><td>null</td><td>null</td><td>null</td><td>2</td></tr><tr><td>1015570</td><td>false</td><td>null</td><td>null</td><td>null</td><td>null</td><td>null</td><td>null</td><td>null</td><td>null</td><td>2</td></tr><tr><td>1065853</td><td>false</td><td>null</td><td>null</td><td>null</td><td>null</td><td>null</td><td>null</td><td>null</td><td>null</td><td>2</td></tr><tr><td>1016165</td><td>true</td><td>null</td><td>null</td><td>1</td><td>0</td><td>null</td><td>null</td><td>null</td><td>null</td><td>0</td></tr><tr><td>1068086</td><td>false</td><td>false</td><td>null</td><td>null</td><td>null</td><td>null</td><td>null</td><td>null</td><td>null</td><td>1</td></tr></tbody></table></div>"
      ],
      "text/plain": [
       "shape: (4_199, 11)\n",
       "┌─────────┬───────┬───────┬──────┬───┬──────┬───────┬────────┬──────┐\n",
       "│ NQUEST  ┆ RDC   ┆ AUU   ┆ DISD ┆ … ┆ RRD  ┆ ALIMD ┆ ALTRED ┆ NPEN │\n",
       "│ ---     ┆ ---   ┆ ---   ┆ ---  ┆   ┆ ---  ┆ ---   ┆ ---    ┆ ---  │\n",
       "│ i64     ┆ bool  ┆ bool  ┆ u32  ┆   ┆ u32  ┆ u32   ┆ u32    ┆ u32  │\n",
       "╞═════════╪═══════╪═══════╪══════╪═══╪══════╪═══════╪════════╪══════╡\n",
       "│ 935077  ┆ false ┆ null  ┆ null ┆ … ┆ null ┆ null  ┆ null   ┆ 2    │\n",
       "│ 1030683 ┆ false ┆ null  ┆ null ┆ … ┆ null ┆ null  ┆ null   ┆ 2    │\n",
       "│ 687018  ┆ false ┆ null  ┆ null ┆ … ┆ null ┆ null  ┆ null   ┆ 2    │\n",
       "│ 1032434 ┆ false ┆ null  ┆ null ┆ … ┆ null ┆ null  ┆ null   ┆ 1    │\n",
       "│ 990648  ┆ false ┆ null  ┆ null ┆ … ┆ null ┆ null  ┆ null   ┆ 1    │\n",
       "│ 1029650 ┆ false ┆ null  ┆ null ┆ … ┆ null ┆ null  ┆ null   ┆ 1    │\n",
       "│ 1045650 ┆ false ┆ null  ┆ null ┆ … ┆ null ┆ null  ┆ null   ┆ 2    │\n",
       "│ 930712  ┆ false ┆ null  ┆ null ┆ … ┆ null ┆ null  ┆ null   ┆ 2    │\n",
       "│ 956558  ┆ false ┆ null  ┆ null ┆ … ┆ null ┆ null  ┆ null   ┆ 2    │\n",
       "│ 999112  ┆ false ┆ null  ┆ null ┆ … ┆ null ┆ null  ┆ null   ┆ 1    │\n",
       "│ 994679  ┆ false ┆ null  ┆ null ┆ … ┆ null ┆ null  ┆ null   ┆ 0    │\n",
       "│ 1020814 ┆ false ┆ null  ┆ null ┆ … ┆ null ┆ null  ┆ null   ┆ 0    │\n",
       "│ 1052141 ┆ false ┆ null  ┆ null ┆ … ┆ null ┆ null  ┆ null   ┆ 2    │\n",
       "│ …       ┆ …     ┆ …     ┆ …    ┆ … ┆ …    ┆ …     ┆ …      ┆ …    │\n",
       "│ 891688  ┆ false ┆ true  ┆ null ┆ … ┆ null ┆ null  ┆ null   ┆ 2    │\n",
       "│ 57670   ┆ false ┆ null  ┆ null ┆ … ┆ null ┆ null  ┆ null   ┆ 1    │\n",
       "│ 985282  ┆ false ┆ null  ┆ null ┆ … ┆ null ┆ null  ┆ null   ┆ 2    │\n",
       "│ 1065984 ┆ false ┆ false ┆ null ┆ … ┆ null ┆ null  ┆ null   ┆ 2    │\n",
       "│ 1048764 ┆ false ┆ null  ┆ null ┆ … ┆ null ┆ null  ┆ null   ┆ 2    │\n",
       "│ 915506  ┆ false ┆ null  ┆ null ┆ … ┆ null ┆ null  ┆ null   ┆ 2    │\n",
       "│ 1016323 ┆ false ┆ null  ┆ null ┆ … ┆ null ┆ null  ┆ null   ┆ 2    │\n",
       "│ 1001833 ┆ false ┆ null  ┆ null ┆ … ┆ null ┆ null  ┆ null   ┆ 2    │\n",
       "│ 1015570 ┆ false ┆ null  ┆ null ┆ … ┆ null ┆ null  ┆ null   ┆ 2    │\n",
       "│ 1065853 ┆ false ┆ null  ┆ null ┆ … ┆ null ┆ null  ┆ null   ┆ 2    │\n",
       "│ 1016165 ┆ true  ┆ null  ┆ null ┆ … ┆ null ┆ null  ┆ null   ┆ 0    │\n",
       "│ 1068086 ┆ false ┆ false ┆ null ┆ … ┆ null ┆ null  ┆ null   ┆ 1    │\n",
       "└─────────┴───────┴───────┴──────┴───┴──────┴───────┴────────┴──────┘"
      ]
     },
     "execution_count": 445,
     "metadata": {},
     "output_type": "execute_result"
    }
   ],
   "source": [
    "df"
   ]
  },
  {
   "cell_type": "code",
   "execution_count": 446,
   "id": "af0a3793",
   "metadata": {},
   "outputs": [],
   "source": [
    "cols_to_check = [col for col in df.columns if col != \"NQUEST\"]\n",
    "\n",
    "# Build a list of conditional expressions: if not null, return column name\n",
    "df = df.with_columns(\n",
    "    pl.concat_list([\n",
    "        pl.when((pl.col(c).is_not_null()) & (pl.col(c) != False))\n",
    "        .then(pl.lit([c]))\n",
    "        .otherwise(pl.lit([]))\n",
    "        for c in cols_to_check\n",
    "    ]).alias(\"income_from\")\n",
    ")"
   ]
  },
  {
   "cell_type": "code",
   "execution_count": 447,
   "id": "18ff3dfc",
   "metadata": {},
   "outputs": [],
   "source": [
    "df = df.with_columns(pl.col(\"income_from\").list.join(\", \").alias(\"income_from\"))"
   ]
  },
  {
   "cell_type": "code",
   "execution_count": 448,
   "id": "cf11f127",
   "metadata": {},
   "outputs": [
    {
     "data": {
      "text/html": [
       "<div><style>\n",
       ".dataframe > thead > tr,\n",
       ".dataframe > tbody > tr {\n",
       "  text-align: right;\n",
       "  white-space: pre-wrap;\n",
       "}\n",
       "</style>\n",
       "<small>shape: (43, 2)</small><table border=\"1\" class=\"dataframe\"><thead><tr><th>income_from</th><th>count</th></tr><tr><td>str</td><td>u32</td></tr></thead><tbody><tr><td>&quot;RRD, ALTRED&quot;</td><td>3</td></tr><tr><td>&quot;RDC, APLD, BORSAD, ALIMD, ALTR…</td><td>1</td></tr><tr><td>&quot;APLD, NPEN&quot;</td><td>16</td></tr><tr><td>&quot;RDC, ALTRED, NPEN&quot;</td><td>1</td></tr><tr><td>&quot;AUU, ALIMD&quot;</td><td>1</td></tr><tr><td>&quot;ALTRED&quot;</td><td>2</td></tr><tr><td>&quot;AUU, DISD, ACED, NPEN&quot;</td><td>1</td></tr><tr><td>&quot;ALIMD&quot;</td><td>5</td></tr><tr><td>&quot;RDC, ACED&quot;</td><td>14</td></tr><tr><td>&quot;ALTRED, NPEN&quot;</td><td>2</td></tr><tr><td>&quot;DISD, NPEN&quot;</td><td>10</td></tr><tr><td>&quot;BORSAD&quot;</td><td>3</td></tr><tr><td>&quot;DISD&quot;</td><td>7</td></tr><tr><td>&hellip;</td><td>&hellip;</td></tr><tr><td>&quot;ACED, NPEN&quot;</td><td>92</td></tr><tr><td>&quot;NPEN&quot;</td><td>3650</td></tr><tr><td>&quot;RRD, ALIMD&quot;</td><td>1</td></tr><tr><td>&quot;RDC, APLD&quot;</td><td>7</td></tr><tr><td>&quot;ACED, ALTRED, NPEN&quot;</td><td>1</td></tr><tr><td>&quot;BORSAD, NPEN&quot;</td><td>1</td></tr><tr><td>&quot;AUU, DISD&quot;</td><td>4</td></tr><tr><td>&quot;RRD&quot;</td><td>5</td></tr><tr><td>&quot;AUU, NPEN&quot;</td><td>16</td></tr><tr><td>&quot;AUU, ALIMD, ALTRED&quot;</td><td>1</td></tr><tr><td>&quot;RDC, AUU, ALIMD&quot;</td><td>2</td></tr><tr><td>&quot;RDC, RRD, NPEN&quot;</td><td>1</td></tr></tbody></table></div>"
      ],
      "text/plain": [
       "shape: (43, 2)\n",
       "┌─────────────────────────────────┬───────┐\n",
       "│ income_from                     ┆ count │\n",
       "│ ---                             ┆ ---   │\n",
       "│ str                             ┆ u32   │\n",
       "╞═════════════════════════════════╪═══════╡\n",
       "│ RRD, ALTRED                     ┆ 3     │\n",
       "│ RDC, APLD, BORSAD, ALIMD, ALTR… ┆ 1     │\n",
       "│ APLD, NPEN                      ┆ 16    │\n",
       "│ RDC, ALTRED, NPEN               ┆ 1     │\n",
       "│ AUU, ALIMD                      ┆ 1     │\n",
       "│ ALTRED                          ┆ 2     │\n",
       "│ AUU, DISD, ACED, NPEN           ┆ 1     │\n",
       "│ ALIMD                           ┆ 5     │\n",
       "│ RDC, ACED                       ┆ 14    │\n",
       "│ ALTRED, NPEN                    ┆ 2     │\n",
       "│ DISD, NPEN                      ┆ 10    │\n",
       "│ BORSAD                          ┆ 3     │\n",
       "│ DISD                            ┆ 7     │\n",
       "│ …                               ┆ …     │\n",
       "│ ACED, NPEN                      ┆ 92    │\n",
       "│ NPEN                            ┆ 3650  │\n",
       "│ RRD, ALIMD                      ┆ 1     │\n",
       "│ RDC, APLD                       ┆ 7     │\n",
       "│ ACED, ALTRED, NPEN              ┆ 1     │\n",
       "│ BORSAD, NPEN                    ┆ 1     │\n",
       "│ AUU, DISD                       ┆ 4     │\n",
       "│ RRD                             ┆ 5     │\n",
       "│ AUU, NPEN                       ┆ 16    │\n",
       "│ AUU, ALIMD, ALTRED              ┆ 1     │\n",
       "│ RDC, AUU, ALIMD                 ┆ 2     │\n",
       "│ RDC, RRD, NPEN                  ┆ 1     │\n",
       "└─────────────────────────────────┴───────┘"
      ]
     },
     "execution_count": 448,
     "metadata": {},
     "output_type": "execute_result"
    }
   ],
   "source": [
    "df[\"income_from\"].value_counts()"
   ]
  },
  {
   "cell_type": "code",
   "execution_count": 450,
   "id": "44afcb41",
   "metadata": {},
   "outputs": [
    {
     "data": {
      "image/png": "[encoded data removed]",
      "text/plain": [
       "<Figure size 1600x400 with 1 Axes>"
      ]
     },
     "metadata": {},
     "output_type": "display_data"
    }
   ],
   "source": [
    "import matplotlib.pyplot as plt\n",
    "\n",
    "# Convert to pandas\n",
    "df_pd = df[\"income_from\"].value_counts().to_pandas()\n",
    "\n",
    "# Plot\n",
    "plt.figure(figsize=(16, 4))\n",
    "plt.bar(df_pd[\"income_from\"], df_pd[\"count\"])\n",
    "plt.xlabel(\"income_from\")\n",
    "plt.ylabel(\"Count\")\n",
    "# plt.title(\"Value Counts Distribution\")\n",
    "plt.xticks(rotation='vertical')\n",
    "plt.show()\n"
   ]
  },
  {
   "cell_type": "code",
   "execution_count": 452,
   "id": "20b0125b",
   "metadata": {},
   "outputs": [
    {
     "name": "stdout",
     "output_type": "stream",
     "text": [
      "percentage of families without employed memebers in the survey:\n"
     ]
    },
    {
     "data": {
      "text/plain": [
       "0.436"
      ]
     },
     "execution_count": 452,
     "metadata": {},
     "output_type": "execute_result"
    }
   ],
   "source": [
    "print(\"percentage of families without employed memebers in the survey:\")\n",
    "round(df_unemp_familymembers_.__len__()/bfi.df_families.__len__(),3)"
   ]
  },
  {
   "cell_type": "code",
   "execution_count": 108,
   "id": "b503f64f",
   "metadata": {},
   "outputs": [
    {
     "data": {
      "text/html": [
       "<div><style>\n",
       ".dataframe > thead > tr,\n",
       ".dataframe > tbody > tr {\n",
       "  text-align: right;\n",
       "  white-space: pre-wrap;\n",
       "}\n",
       "</style>\n",
       "<small>shape: (1, 363)</small><table border=\"1\" class=\"dataframe\"><thead><tr><th>NQUEST</th><th>TIPOI</th><th>QUEST</th><th>NQUESTP</th><th>STUPCF</th><th>STUMCF</th><th>STUPCO</th><th>STUMCO</th><th>CITPCF</th><th>CITMCF</th><th>CITPCO</th><th>CITMCO</th><th>VITGEN</th><th>NGEN</th><th>FIGLI</th><th>NFIGLI</th><th>PARNOIT</th><th>ANCONV</th><th>CONTINT</th><th>pesofit</th><th>NCOMP</th><th>NPERL</th><th>NPERC</th><th>NEQU</th><th>RDC</th><th>RDCMESI01</th><th>RDCMESI02</th><th>RDCMESI03</th><th>RDCMESI04</th><th>RDCMESI05</th><th>RDCMESI06</th><th>RDCMESI07</th><th>RDCMESI08</th><th>RDCMESI09</th><th>RDCMESI10</th><th>RDCMESI11</th><th>RDCMESI12</th><th>&hellip;</th><th>MKSWC</th><th>ENREACT1</th><th>ENREACT2</th><th>ENREACT3</th><th>ENREACT4</th><th>ENINVEST</th><th>ENINVESTCOME</th><th>RITBOL</th><th>ASPINF2A</th><th>ASPINF2B</th><th>DOCSEZE</th><th>ASS2NEW1</th><th>ASS2NEW2</th><th>ASS2NEW3</th><th>ASS2NEW4</th><th>ASS2NEW5</th><th>ASS2NEW6</th><th>ASS1NEW1</th><th>ASS1NEW2</th><th>ASS1NEW3</th><th>ASS1NEW4</th><th>ASS1NEW5</th><th>ASS1NEW6</th><th>ASS4</th><th>ASS4S</th><th>ASS32</th><th>ASS3S2</th><th>DOCSEZF</th><th>COMPRENS</th><th>ITA</th><th>VEROAF</th><th>VEROAB</th><th>VERORED</th><th>KLIMA</th><th>FACIL</th><th>INTS</th><th>DURATA</th></tr><tr><td>i64</td><td>i64</td><td>i64</td><td>i64</td><td>i64</td><td>i64</td><td>i64</td><td>i64</td><td>i64</td><td>i64</td><td>i64</td><td>i64</td><td>i64</td><td>i64</td><td>i64</td><td>i64</td><td>i64</td><td>i64</td><td>i64</td><td>f64</td><td>i64</td><td>i64</td><td>i64</td><td>f64</td><td>i64</td><td>i64</td><td>i64</td><td>i64</td><td>i64</td><td>i64</td><td>i64</td><td>i64</td><td>i64</td><td>i64</td><td>i64</td><td>i64</td><td>i64</td><td>&hellip;</td><td>i64</td><td>i64</td><td>i64</td><td>i64</td><td>i64</td><td>i64</td><td>i64</td><td>i64</td><td>f64</td><td>i64</td><td>i64</td><td>i64</td><td>i64</td><td>i64</td><td>i64</td><td>i64</td><td>i64</td><td>i64</td><td>i64</td><td>i64</td><td>i64</td><td>i64</td><td>i64</td><td>i64</td><td>i64</td><td>i64</td><td>i64</td><td>i64</td><td>i64</td><td>i64</td><td>i64</td><td>i64</td><td>i64</td><td>i64</td><td>i64</td><td>i64</td><td>i64</td></tr></thead><tbody><tr><td>925496</td><td>1</td><td>3</td><td>null</td><td>null</td><td>null</td><td>null</td><td>null</td><td>null</td><td>null</td><td>null</td><td>null</td><td>2</td><td>null</td><td>1</td><td>2</td><td>2</td><td>null</td><td>1</td><td>0.41226</td><td>2</td><td>0</td><td>1</td><td>1.5</td><td>2</td><td>null</td><td>null</td><td>null</td><td>null</td><td>null</td><td>null</td><td>null</td><td>null</td><td>null</td><td>null</td><td>null</td><td>null</td><td>&hellip;</td><td>4</td><td>1</td><td>7</td><td>8</td><td>null</td><td>2</td><td>null</td><td>1</td><td>9.0</td><td>null</td><td>2</td><td>2</td><td>2</td><td>null</td><td>null</td><td>null</td><td>null</td><td>2</td><td>2</td><td>null</td><td>null</td><td>null</td><td>null</td><td>2</td><td>null</td><td>2</td><td>null</td><td>2</td><td>9</td><td>9</td><td>8</td><td>9</td><td>9</td><td>9</td><td>8</td><td>9</td><td>32</td></tr></tbody></table></div>"
      ],
      "text/plain": [
       "shape: (1, 363)\n",
       "┌────────┬───────┬───────┬─────────┬───┬───────┬───────┬──────┬────────┐\n",
       "│ NQUEST ┆ TIPOI ┆ QUEST ┆ NQUESTP ┆ … ┆ KLIMA ┆ FACIL ┆ INTS ┆ DURATA │\n",
       "│ ---    ┆ ---   ┆ ---   ┆ ---     ┆   ┆ ---   ┆ ---   ┆ ---  ┆ ---    │\n",
       "│ i64    ┆ i64   ┆ i64   ┆ i64     ┆   ┆ i64   ┆ i64   ┆ i64  ┆ i64    │\n",
       "╞════════╪═══════╪═══════╪═════════╪═══╪═══════╪═══════╪══════╪════════╡\n",
       "│ 925496 ┆ 1     ┆ 3     ┆ null    ┆ … ┆ 9     ┆ 8     ┆ 9    ┆ 32     │\n",
       "└────────┴───────┴───────┴─────────┴───┴───────┴───────┴──────┴────────┘"
      ]
     },
     "execution_count": 108,
     "metadata": {},
     "output_type": "execute_result"
    }
   ],
   "source": [
    "bfi.df_families.filter(pl.col(\"NQUEST\") == 925496)"
   ]
  },
  {
   "cell_type": "code",
   "execution_count": 322,
   "id": "1723f9b1",
   "metadata": {},
   "outputs": [
    {
     "name": "stdout",
     "output_type": "stream",
     "text": [
      "Attribute:\n",
      "   TIPOPEN\n",
      "Description:\n",
      "   Tipo di pensione percepita nel 2022\n",
      "Encod.\tLabel\n",
      "1\tda lavoro (previdenziale)\n",
      "2\tsociale (assistenziale ad esclusione della pensione di cittadinanza)\n",
      "3\tdi reversibilità\n",
      "4\tcomplementare/integrativa (contrib. volontaria) o da assicurazioni private\n",
      "5\taltro (pensione di inabilità/invalidità, pensione di guerra, etc…)\n"
     ]
    }
   ],
   "source": [
    "_=bfi.get_attribute_metadata(\"TIPOPEN\",print_output=True)"
   ]
  },
  {
   "cell_type": "code",
   "execution_count": 453,
   "id": "b78705be",
   "metadata": {},
   "outputs": [
    {
     "data": {
      "image/png": "[encoded data removed]",
      "text/plain": [
       "<Figure size 600x400 with 1 Axes>"
      ]
     },
     "metadata": {},
     "output_type": "display_data"
    }
   ],
   "source": [
    "df_B4[\"TIPOPEN\"].unique()\n",
    "import matplotlib.pyplot as plt\n",
    "\n",
    "# Convert to pandas\n",
    "df_pd = df_B4[\"TIPOPEN\"].value_counts().to_pandas()\n",
    "\n",
    "# Plot\n",
    "plt.figure(figsize=(6, 4))\n",
    "plt.bar(df_pd[\"TIPOPEN\"], df_pd[\"count\"])\n",
    "plt.xlabel(\"TIPOPEN\")\n",
    "plt.ylabel(\"Count\")\n",
    "# plt.title(\"Value Counts Distribution\")\n",
    "# plt.xticks(rotation='vertical')\n",
    "plt.show()\n"
   ]
  },
  {
   "cell_type": "code",
   "execution_count": 295,
   "id": "c44ef82f",
   "metadata": {},
   "outputs": [
    {
     "data": {
      "text/html": [
       "<div><style>\n",
       ".dataframe > thead > tr,\n",
       ".dataframe > tbody > tr {\n",
       "  text-align: right;\n",
       "  white-space: pre-wrap;\n",
       "}\n",
       "</style>\n",
       "<small>shape: (23_057, 72)</small><table border=\"1\" class=\"dataframe\"><thead><tr><th>NQUEST</th><th>NCOMP</th><th>nord</th><th>SEX</th><th>PARENT</th><th>NASC</th><th>ANASC</th><th>CIT</th><th>ANINGR</th><th>MOTIV</th><th>STACIV</th><th>STUDIO</th><th>TIPOLAU</th><th>VOTOEDU</th><th>SUEDU</th><th>SELODE</th><th>ANNOEDU</th><th>TIPODIP</th><th>PRESNORD</th><th>NORDP</th><th>MOTENT</th><th>ANNOENUS</th><th>B01</th><th>APQUAL2</th><th>ASNONOC2</th><th>NACE2</th><th>NESPLAV</th><th>ETALAV</th><th>DISLAV</th><th>DISANN1</th><th>DISANN2</th><th>CONTRIB</th><th>ACONTRIB</th><th>FCONTRIB</th><th>OCCNOW</th><th>SALMIN</th><th>SALMIN1</th><th>SMARTW2</th><th>SMARTWB</th><th>ETAPEN</th><th>COPPU</th><th>B16</th><th>B17A</th><th>B17B</th><th>B17C</th><th>B18</th><th>B19A</th><th>B19B</th><th>B19C</th><th>ATTIVP</th><th>ISCO</th><th>NACE</th><th>ETALAV2</th><th>NASCAREA</th><th>NASCREG</th><th>IREG</th><th>ETA</th><th>CLETA5</th><th>QUAL</th><th>Q</th><th>SETT</th><th>CFRED</th><th>PERC</th><th>PERL</th><th>NPERL</th><th>NPERC</th><th>AREA3</th><th>AREA5</th><th>ACOM4C</th><th>ACOM5</th><th>pesofit</th><th>pesofit2</th></tr><tr><td>i64</td><td>i64</td><td>i64</td><td>i64</td><td>i64</td><td>i64</td><td>i64</td><td>i64</td><td>i64</td><td>i64</td><td>i64</td><td>i64</td><td>i64</td><td>f64</td><td>i64</td><td>i64</td><td>i64</td><td>i64</td><td>i64</td><td>i64</td><td>i64</td><td>i64</td><td>i64</td><td>i64</td><td>i64</td><td>i64</td><td>i64</td><td>i64</td><td>i64</td><td>i64</td><td>i64</td><td>i64</td><td>i64</td><td>i64</td><td>i64</td><td>f64</td><td>i64</td><td>i64</td><td>i64</td><td>i64</td><td>i64</td><td>i64</td><td>i64</td><td>i64</td><td>i64</td><td>i64</td><td>i64</td><td>i64</td><td>i64</td><td>i64</td><td>i64</td><td>i64</td><td>i64</td><td>i64</td><td>i64</td><td>i64</td><td>i64</td><td>i64</td><td>i64</td><td>i64</td><td>i64</td><td>i64</td><td>i64</td><td>i64</td><td>i64</td><td>i64</td><td>i64</td><td>i64</td><td>i64</td><td>i64</td><td>f64</td><td>f64</td></tr></thead><tbody><tr><td>173</td><td>1</td><td>1</td><td>1</td><td>1</td><td>1</td><td>1948</td><td>1</td><td>null</td><td>null</td><td>3</td><td>5</td><td>null</td><td>44.0</td><td>60</td><td>null</td><td>1968</td><td>2</td><td>1</td><td>1</td><td>null</td><td>null</td><td>2</td><td>15</td><td>2</td><td>10</td><td>1</td><td>27</td><td>2</td><td>null</td><td>null</td><td>1</td><td>33</td><td>0</td><td>2</td><td>null</td><td>null</td><td>null</td><td>null</td><td>null</td><td>null</td><td>2</td><td>2</td><td>2</td><td>2</td><td>1</td><td>2</td><td>2</td><td>2</td><td>null</td><td>0</td><td>null</td><td>null</td><td>3</td><td>18</td><td>18</td><td>74</td><td>5</td><td>6</td><td>3</td><td>5</td><td>1</td><td>1</td><td>0</td><td>0</td><td>1</td><td>3</td><td>4</td><td>2</td><td>4</td><td>0.226393</td><td>588.394267</td></tr><tr><td>2886</td><td>2</td><td>1</td><td>1</td><td>1</td><td>1</td><td>1949</td><td>1</td><td>null</td><td>null</td><td>1</td><td>5</td><td>null</td><td>37.0</td><td>60</td><td>null</td><td>1970</td><td>2</td><td>1</td><td>1</td><td>null</td><td>null</td><td>2</td><td>15</td><td>2</td><td>16</td><td>1</td><td>26</td><td>2</td><td>null</td><td>null</td><td>1</td><td>35</td><td>0</td><td>2</td><td>null</td><td>null</td><td>null</td><td>null</td><td>null</td><td>null</td><td>2</td><td>2</td><td>2</td><td>2</td><td>1</td><td>2</td><td>2</td><td>2</td><td>null</td><td>0</td><td>null</td><td>null</td><td>3</td><td>13</td><td>13</td><td>73</td><td>5</td><td>6</td><td>3</td><td>5</td><td>0</td><td>1</td><td>0</td><td>0</td><td>2</td><td>3</td><td>4</td><td>2</td><td>3</td><td>0.051872</td><td>134.814571</td></tr><tr><td>2886</td><td>2</td><td>2</td><td>2</td><td>3</td><td>1</td><td>1952</td><td>1</td><td>null</td><td>null</td><td>1</td><td>6</td><td>3</td><td>110.0</td><td>110</td><td>1</td><td>2000</td><td>5</td><td>1</td><td>2</td><td>null</td><td>null</td><td>2</td><td>15</td><td>2</td><td>17</td><td>1</td><td>22</td><td>2</td><td>null</td><td>null</td><td>1</td><td>44</td><td>0</td><td>2</td><td>null</td><td>null</td><td>null</td><td>null</td><td>null</td><td>null</td><td>2</td><td>2</td><td>2</td><td>2</td><td>1</td><td>2</td><td>2</td><td>2</td><td>null</td><td>0</td><td>null</td><td>null</td><td>3</td><td>13</td><td>13</td><td>70</td><td>5</td><td>6</td><td>3</td><td>5</td><td>1</td><td>1</td><td>0</td><td>0</td><td>2</td><td>3</td><td>4</td><td>2</td><td>3</td><td>0.051872</td><td>134.814571</td></tr><tr><td>3717</td><td>1</td><td>1</td><td>2</td><td>1</td><td>1</td><td>1954</td><td>1</td><td>null</td><td>null</td><td>2</td><td>4</td><td>null</td><td>null</td><td>null</td><td>null</td><td>null</td><td>null</td><td>1</td><td>1</td><td>null</td><td>null</td><td>2</td><td>16</td><td>null</td><td>null</td><td>0</td><td>null</td><td>null</td><td>null</td><td>null</td><td>null</td><td>null</td><td>null</td><td>2</td><td>null</td><td>null</td><td>null</td><td>null</td><td>null</td><td>null</td><td>2</td><td>2</td><td>2</td><td>2</td><td>1</td><td>2</td><td>2</td><td>2</td><td>null</td><td>0</td><td>null</td><td>null</td><td>3</td><td>16</td><td>16</td><td>68</td><td>5</td><td>6</td><td>3</td><td>5</td><td>1</td><td>1</td><td>0</td><td>0</td><td>1</td><td>3</td><td>4</td><td>2</td><td>4</td><td>0.262155</td><td>681.340514</td></tr><tr><td>5416</td><td>3</td><td>1</td><td>2</td><td>1</td><td>1</td><td>1958</td><td>1</td><td>null</td><td>null</td><td>3</td><td>3</td><td>null</td><td>null</td><td>null</td><td>null</td><td>null</td><td>null</td><td>1</td><td>1</td><td>null</td><td>null</td><td>2</td><td>15</td><td>1</td><td>9</td><td>3</td><td>16</td><td>2</td><td>null</td><td>null</td><td>1</td><td>30</td><td>0</td><td>2</td><td>null</td><td>null</td><td>null</td><td>null</td><td>null</td><td>null</td><td>2</td><td>2</td><td>2</td><td>2</td><td>1</td><td>2</td><td>2</td><td>2</td><td>null</td><td>0</td><td>null</td><td>null</td><td>3</td><td>20</td><td>8</td><td>64</td><td>4</td><td>6</td><td>3</td><td>5</td><td>1</td><td>1</td><td>0</td><td>2</td><td>3</td><td>1</td><td>2</td><td>2</td><td>4</td><td>0.320193</td><td>832.180346</td></tr><tr><td>&hellip;</td><td>&hellip;</td><td>&hellip;</td><td>&hellip;</td><td>&hellip;</td><td>&hellip;</td><td>&hellip;</td><td>&hellip;</td><td>&hellip;</td><td>&hellip;</td><td>&hellip;</td><td>&hellip;</td><td>&hellip;</td><td>&hellip;</td><td>&hellip;</td><td>&hellip;</td><td>&hellip;</td><td>&hellip;</td><td>&hellip;</td><td>&hellip;</td><td>&hellip;</td><td>&hellip;</td><td>&hellip;</td><td>&hellip;</td><td>&hellip;</td><td>&hellip;</td><td>&hellip;</td><td>&hellip;</td><td>&hellip;</td><td>&hellip;</td><td>&hellip;</td><td>&hellip;</td><td>&hellip;</td><td>&hellip;</td><td>&hellip;</td><td>&hellip;</td><td>&hellip;</td><td>&hellip;</td><td>&hellip;</td><td>&hellip;</td><td>&hellip;</td><td>&hellip;</td><td>&hellip;</td><td>&hellip;</td><td>&hellip;</td><td>&hellip;</td><td>&hellip;</td><td>&hellip;</td><td>&hellip;</td><td>&hellip;</td><td>&hellip;</td><td>&hellip;</td><td>&hellip;</td><td>&hellip;</td><td>&hellip;</td><td>&hellip;</td><td>&hellip;</td><td>&hellip;</td><td>&hellip;</td><td>&hellip;</td><td>&hellip;</td><td>&hellip;</td><td>&hellip;</td><td>&hellip;</td><td>&hellip;</td><td>&hellip;</td><td>&hellip;</td><td>&hellip;</td><td>&hellip;</td><td>&hellip;</td><td>&hellip;</td><td>&hellip;</td></tr><tr><td>1072961</td><td>5</td><td>4</td><td>1</td><td>6</td><td>1</td><td>2016</td><td>1</td><td>null</td><td>null</td><td>2</td><td>1</td><td>null</td><td>null</td><td>null</td><td>null</td><td>null</td><td>null</td><td>null</td><td>null</td><td>null</td><td>null</td><td>2</td><td>17</td><td>null</td><td>null</td><td>null</td><td>null</td><td>null</td><td>null</td><td>null</td><td>null</td><td>null</td><td>null</td><td>null</td><td>null</td><td>null</td><td>null</td><td>null</td><td>null</td><td>null</td><td>null</td><td>null</td><td>null</td><td>null</td><td>2</td><td>null</td><td>2</td><td>2</td><td>null</td><td>0</td><td>null</td><td>null</td><td>3</td><td>20</td><td>20</td><td>6</td><td>1</td><td>7</td><td>3</td><td>5</td><td>0</td><td>0</td><td>0</td><td>1</td><td>3</td><td>3</td><td>5</td><td>0</td><td>1</td><td>2.602902</td><td>6764.931836</td></tr><tr><td>1072961</td><td>5</td><td>5</td><td>1</td><td>6</td><td>1</td><td>2020</td><td>1</td><td>null</td><td>null</td><td>2</td><td>1</td><td>null</td><td>null</td><td>null</td><td>null</td><td>null</td><td>null</td><td>null</td><td>null</td><td>null</td><td>null</td><td>2</td><td>18</td><td>null</td><td>null</td><td>null</td><td>null</td><td>null</td><td>null</td><td>null</td><td>null</td><td>null</td><td>null</td><td>null</td><td>null</td><td>null</td><td>null</td><td>null</td><td>null</td><td>null</td><td>null</td><td>null</td><td>null</td><td>null</td><td>2</td><td>null</td><td>2</td><td>2</td><td>null</td><td>0</td><td>null</td><td>null</td><td>3</td><td>20</td><td>20</td><td>2</td><td>1</td><td>7</td><td>3</td><td>5</td><td>0</td><td>0</td><td>0</td><td>1</td><td>3</td><td>3</td><td>5</td><td>0</td><td>1</td><td>2.602902</td><td>6764.931836</td></tr><tr><td>1072969</td><td>1</td><td>1</td><td>2</td><td>1</td><td>1</td><td>1946</td><td>1</td><td>null</td><td>null</td><td>4</td><td>3</td><td>null</td><td>null</td><td>null</td><td>null</td><td>null</td><td>null</td><td>1</td><td>null</td><td>null</td><td>null</td><td>2</td><td>16</td><td>null</td><td>null</td><td>1</td><td>40</td><td>2</td><td>null</td><td>null</td><td>2</td><td>null</td><td>null</td><td>2</td><td>null</td><td>null</td><td>null</td><td>null</td><td>null</td><td>null</td><td>2</td><td>2</td><td>2</td><td>2</td><td>1</td><td>2</td><td>2</td><td>2</td><td>null</td><td>0</td><td>null</td><td>null</td><td>2</td><td>11</td><td>11</td><td>76</td><td>5</td><td>6</td><td>3</td><td>5</td><td>1</td><td>1</td><td>0</td><td>0</td><td>1</td><td>2</td><td>3</td><td>2</td><td>4</td><td>0.826032</td><td>2146.854804</td></tr><tr><td>1072970</td><td>2</td><td>1</td><td>1</td><td>1</td><td>1</td><td>1947</td><td>1</td><td>null</td><td>null</td><td>1</td><td>7</td><td>6</td><td>106.0</td><td>110</td><td>null</td><td>1971</td><td>2</td><td>1</td><td>1</td><td>null</td><td>null</td><td>2</td><td>15</td><td>5</td><td>11</td><td>1</td><td>24</td><td>2</td><td>null</td><td>null</td><td>1</td><td>45</td><td>0</td><td>2</td><td>null</td><td>null</td><td>null</td><td>null</td><td>null</td><td>null</td><td>2</td><td>2</td><td>2</td><td>2</td><td>1</td><td>2</td><td>2</td><td>2</td><td>null</td><td>0</td><td>null</td><td>null</td><td>1</td><td>8</td><td>8</td><td>75</td><td>5</td><td>6</td><td>3</td><td>5</td><td>1</td><td>1</td><td>0</td><td>0</td><td>2</td><td>1</td><td>2</td><td>2</td><td>4</td><td>0.118306</td><td>307.476833</td></tr><tr><td>1072970</td><td>2</td><td>2</td><td>2</td><td>2</td><td>1</td><td>1951</td><td>1</td><td>null</td><td>null</td><td>1</td><td>7</td><td>9</td><td>100.0</td><td>110</td><td>null</td><td>1984</td><td>5</td><td>2</td><td>2</td><td>null</td><td>null</td><td>2</td><td>15</td><td>3</td><td>16</td><td>2</td><td>19</td><td>2</td><td>null</td><td>null</td><td>1</td><td>19</td><td>0</td><td>2</td><td>null</td><td>null</td><td>null</td><td>null</td><td>null</td><td>null</td><td>2</td><td>2</td><td>2</td><td>2</td><td>1</td><td>2</td><td>2</td><td>2</td><td>null</td><td>0</td><td>null</td><td>null</td><td>1</td><td>8</td><td>8</td><td>71</td><td>5</td><td>6</td><td>3</td><td>5</td><td>0</td><td>1</td><td>0</td><td>0</td><td>2</td><td>1</td><td>2</td><td>2</td><td>4</td><td>0.118306</td><td>307.476833</td></tr></tbody></table></div>"
      ],
      "text/plain": [
       "shape: (23_057, 72)\n",
       "┌─────────┬───────┬──────┬─────┬───┬────────┬───────┬──────────┬─────────────┐\n",
       "│ NQUEST  ┆ NCOMP ┆ nord ┆ SEX ┆ … ┆ ACOM4C ┆ ACOM5 ┆ pesofit  ┆ pesofit2    │\n",
       "│ ---     ┆ ---   ┆ ---  ┆ --- ┆   ┆ ---    ┆ ---   ┆ ---      ┆ ---         │\n",
       "│ i64     ┆ i64   ┆ i64  ┆ i64 ┆   ┆ i64    ┆ i64   ┆ f64      ┆ f64         │\n",
       "╞═════════╪═══════╪══════╪═════╪═══╪════════╪═══════╪══════════╪═════════════╡\n",
       "│ 173     ┆ 1     ┆ 1    ┆ 1   ┆ … ┆ 2      ┆ 4     ┆ 0.226393 ┆ 588.394267  │\n",
       "│ 2886    ┆ 2     ┆ 1    ┆ 1   ┆ … ┆ 2      ┆ 3     ┆ 0.051872 ┆ 134.814571  │\n",
       "│ 2886    ┆ 2     ┆ 2    ┆ 2   ┆ … ┆ 2      ┆ 3     ┆ 0.051872 ┆ 134.814571  │\n",
       "│ 3717    ┆ 1     ┆ 1    ┆ 2   ┆ … ┆ 2      ┆ 4     ┆ 0.262155 ┆ 681.340514  │\n",
       "│ 5416    ┆ 3     ┆ 1    ┆ 2   ┆ … ┆ 2      ┆ 4     ┆ 0.320193 ┆ 832.180346  │\n",
       "│ …       ┆ …     ┆ …    ┆ …   ┆ … ┆ …      ┆ …     ┆ …        ┆ …           │\n",
       "│ 1072961 ┆ 5     ┆ 4    ┆ 1   ┆ … ┆ 0      ┆ 1     ┆ 2.602902 ┆ 6764.931836 │\n",
       "│ 1072961 ┆ 5     ┆ 5    ┆ 1   ┆ … ┆ 0      ┆ 1     ┆ 2.602902 ┆ 6764.931836 │\n",
       "│ 1072969 ┆ 1     ┆ 1    ┆ 2   ┆ … ┆ 2      ┆ 4     ┆ 0.826032 ┆ 2146.854804 │\n",
       "│ 1072970 ┆ 2     ┆ 1    ┆ 1   ┆ … ┆ 2      ┆ 4     ┆ 0.118306 ┆ 307.476833  │\n",
       "│ 1072970 ┆ 2     ┆ 2    ┆ 2   ┆ … ┆ 2      ┆ 4     ┆ 0.118306 ┆ 307.476833  │\n",
       "└─────────┴───────┴──────┴─────┴───┴────────┴───────┴──────────┴─────────────┘"
      ]
     },
     "execution_count": 295,
     "metadata": {},
     "output_type": "execute_result"
    }
   ],
   "source": [
    "bfi.df_familymembers"
   ]
  },
  {
   "cell_type": "markdown",
   "id": "615d1e38",
   "metadata": {},
   "source": [
    "### Percentage of unemployment in Italy"
   ]
  },
  {
   "cell_type": "code",
   "execution_count": null,
   "id": "1e3d4d11",
   "metadata": {},
   "outputs": [
    {
     "name": "stdout",
     "output_type": "stream",
     "text": [
      "Tasso di Disoccupazione \n",
      "Istat 2022:    7.8 %\n",
      "Da sondaggio:  11.7 %\n"
     ]
    }
   ],
   "source": [
    "# bfi.df_familymembers = bfi.df_familymembers.with_columns(pl.col(\"nord\").alias(\"NORD\"))\n",
    "pensionati = df_B4.filter(pl.col(\"TIPOPEN\").is_in([1,2,5]))\n",
    "\n",
    "# Filter family members in working age and conditions\n",
    "df_unempl = bfi.df_familymembers.join(pensionati, on=[\"NQUEST\",\"NORD\"], how=\"anti\").filter((pl.col(\"B01\")==2) & (pl.col(\"ANASC\")<2003) & (pl.col(\"ANASC\")>1957) & (pl.col(\"APQUAL2\")!=17) & (pl.col(\"APQUAL2\")!=16))\n",
    "\n",
    "print(\"Tasso di Disoccupazione \\nIstat 2022:    7.8 %\")\n",
    "print(\"Da sondaggio: \",round(df_unempl.__len__()/bfi.df_familymembers.__len__()*100,1),\"%\")"
   ]
  },
  {
   "cell_type": "code",
   "execution_count": 323,
   "id": "910a7a94",
   "metadata": {},
   "outputs": [
    {
     "name": "stdout",
     "output_type": "stream",
     "text": [
      "Attribute:\n",
      "   APQUAL2\n",
      "Description:\n",
      "   Qualifica occupazione\n",
      "Encod.\tLabel\n",
      "1\toperaio o posizione similare (inclusi salariati e apprendisti, lavoranti a domicilio, commessi)\n",
      "2\timpiegato\n",
      "3\tinsegnante di qualunque tipo di scuola (inclusi incaricati, contrattisti e simili)\n",
      "4\timpiegato direttivo/quadro\n",
      "5\tdirigente, alto funzionario, preside, direttore didattico, docente universitario, magistrato\n",
      "6\tlibero professionista\n",
      "7\timprenditore individuale\n",
      "8\tlavoratore in proprio (ad es. artigiano)\n",
      "9\ttitolare, socio-gestore di una società o di una cooperativa\n",
      "10\t coadiuvante (non alle dipendenze) nella ditta di un familiare convivente\n",
      "11\tin cerca di prima occupazione\n",
      "12\tdisoccupato\n",
      "13\tcasalinga/o\n",
      "14\tbenestante\n",
      "15\tpensionato da lavoro\n",
      "16\tpensionato non da lavoro (invalidità/reversibilità/sociale)\n",
      "17\tstudente (dalla prima elementare in poi)\n",
      "18\tbambino in età prescolare\n",
      "19\tvolontario\n",
      "20\tlavoratore atipico (lavoro parasubordinato, collaborazioni occasionali, lavoro accessorio, coadiuvante non alle dipendenze nella ditta di un familiare non convivente o di un amico, etc.)\n",
      "21\taltro non occupato\n",
      "22\tamministratore/gestore di una impresa di cui non è socio\n"
     ]
    }
   ],
   "source": [
    "_=bfi.get_attribute_metadata(\"APQUAL2\",print_output=True)"
   ]
  }
 ],
 "metadata": {
  "kernelspec": {
   "display_name": "test_sure",
   "language": "python",
   "name": "python3"
  },
  "language_info": {
   "codemirror_mode": {
    "name": "ipython",
    "version": 3
   },
   "file_extension": ".py",
   "mimetype": "text/x-python",
   "name": "python",
   "nbconvert_exporter": "python",
   "pygments_lexer": "ipython3",
   "version": "3.10.12"
  }
 },
 "nbformat": 4,
 "nbformat_minor": 5
}
